{
  "nbformat": 4,
  "nbformat_minor": 0,
  "metadata": {
    "colab": {
      "provenance": [],
      "authorship_tag": "ABX9TyP2S64k+xXulP01vbOzffOl",
      "include_colab_link": true
    },
    "kernelspec": {
      "name": "python3",
      "display_name": "Python 3"
    },
    "language_info": {
      "name": "python"
    }
  },
  "cells": [
    {
      "cell_type": "markdown",
      "metadata": {
        "id": "view-in-github",
        "colab_type": "text"
      },
      "source": [
        "<a href=\"https://colab.research.google.com/github/lx-jdar/progra-concurrente/blob/development/tp2/go/tp2_golang.ipynb\" target=\"_parent\"><img src=\"https://colab.research.google.com/assets/colab-badge.svg\" alt=\"Open In Colab\"/></a>"
      ]
    },
    {
      "cell_type": "markdown",
      "source": [
        "# Trabajo práctico 2: GOLANG"
      ],
      "metadata": {
        "id": "YCNmiZbil0-z"
      }
    },
    {
      "cell_type": "markdown",
      "source": [
        "Instalacion de golang en Colab"
      ],
      "metadata": {
        "id": "WQcHtp6-l_Dc"
      }
    },
    {
      "cell_type": "code",
      "execution_count": null,
      "metadata": {
        "id": "AOKJ4i_slyNZ"
      },
      "outputs": [],
      "source": [
        "!add-apt-repository ppa:longsleep/golang-backports -y\n",
        "!apt update\n",
        "!apt install golang-go\n",
        "%env GOPATH=/root/go\n",
        "!go version"
      ]
    },
    {
      "cell_type": "markdown",
      "source": [
        "Creación del Archivo GO"
      ],
      "metadata": {
        "id": "wg0MAN4gmNKP"
      }
    },
    {
      "cell_type": "code",
      "source": [
        "%%writefile tp2-golang.go\n",
        "package main\n",
        "\n",
        "import (\n",
        "\t\"fmt\"\n",
        "\t\"math/rand\"\n",
        "\t\"sync\"\n",
        ")\n",
        "\n",
        "const (\n",
        "\tMIN_VAL = -32\n",
        "\tMAX_VAL = 32\n",
        ")\n",
        "\n",
        "var matrizCC [5][5]int\n",
        "\n",
        "func main() {\n",
        "\tmatrizA, matrizB := retornarMatrices()\n",
        "\tmatrizCS := sumarSecuencial(matrizA, matrizB)\n",
        "\n",
        "\tvar wg sync.WaitGroup\n",
        "\tsumarConcurrente(matrizA, matrizB, &wg)\n",
        "\twg.Wait()\n",
        "\n",
        "\tfmt.Println(\"#### Valores de Matriz CS #####\")\n",
        "\tmostrarMatriz(matrizCS)\n",
        "\n",
        "\tfmt.Println(\"\\n#### Valores de Matriz CC #####\")\n",
        "\tmostrarMatriz(matrizCC)\n",
        "\n",
        "}\n",
        "\n",
        "func retornarMatrices() ([5][5]int, [5][5]int) {\n",
        "\tvar matrizA [5][5]int\n",
        "\tvar matrizB [5][5]int\n",
        "\tvar randomIntegerwithinRange int\n",
        "\tfor i := 0; i < len(matrizA); i++ {\n",
        "\t\tfor j := 0; j < len(matrizA[i]); j++ {\n",
        "\t\t\trandomIntegerwithinRange = rand.Intn(MAX_VAL-MIN_VAL) + MIN_VAL\n",
        "\t\t\tmatrizA[i][j] = randomIntegerwithinRange\n",
        "\t\t\trandomIntegerwithinRange = rand.Intn(MAX_VAL-MIN_VAL) + MIN_VAL\n",
        "\t\t\tmatrizB[i][j] = randomIntegerwithinRange\n",
        "\t\t}\n",
        "\t}\n",
        "\tfmt.Println(\"#### Valores de Matriz A #####\")\n",
        "\tmostrarMatriz(matrizA)\n",
        "\tfmt.Println(\"#### Valores de Matriz B #####\")\n",
        "\tmostrarMatriz(matrizB)\n",
        "\n",
        "\treturn matrizA, matrizB\n",
        "}\n",
        "\n",
        "func sumarSecuencial(matrizA [5][5]int, matrizB [5][5]int) [5][5]int {\n",
        "\tvar matrizCS [5][5]int\n",
        "\tfmt.Println()\n",
        "\tfor i := 0; i < len(matrizA); i++ {\n",
        "\t\tfor j := 0; j < len(matrizA[i]); j++ {\n",
        "\t\t\tmatrizCS[i][j] = matrizA[i][j] + matrizB[i][j]\n",
        "\t\t}\n",
        "\t}\n",
        "\treturn matrizCS\n",
        "}\n",
        "\n",
        "func sumarConcurrente(matrizA [5][5]int, matrizB [5][5]int, wg *sync.WaitGroup) {\n",
        "\tfor f := 0; f < 5; f++ {\n",
        "\t\twg.Add(1)\n",
        "\t\tgo func(pos int, a *[5]int, b *[5]int) { // ejecuta una rutina go. thread liviano\n",
        "\t\t\tdefer wg.Done()\n",
        "\t\t\t//fmt.Printf(\"fila %3d \\n\", pos)\t// logs it's running concurrently\n",
        "\t\t\tfor i, _ := range matrizCC[0] {\n",
        "\t\t\t\tmatrizCC[pos][i] = a[i] + b[i]\n",
        "\t\t\t}\n",
        "\t\t}(f, &matrizA[f], &matrizB[f])\n",
        "\t}\n",
        "\n",
        "}\n",
        "\n",
        "func mostrarMatriz(matriz [5][5]int) {\n",
        "\tfor _, fila := range matriz {\n",
        "\t\tfor _, elemento := range fila {\n",
        "\t\t\tfmt.Printf(\"%3d \", elemento) // Imprime los índices y el elemento de 'matriz'\n",
        "\t\t}\n",
        "\t\tfmt.Println()\n",
        "\t}\n",
        "}\n"
      ],
      "metadata": {
        "id": "DOk9ruDPmQ4W"
      },
      "execution_count": null,
      "outputs": []
    },
    {
      "cell_type": "markdown",
      "source": [
        "Compilacion del Archivo GO"
      ],
      "metadata": {
        "id": "6F8H0PEqmoI6"
      }
    },
    {
      "cell_type": "code",
      "source": [
        "!go build tp2-golang.go"
      ],
      "metadata": {
        "id": "02wvS36Gmqvl"
      },
      "execution_count": 4,
      "outputs": []
    },
    {
      "cell_type": "markdown",
      "source": [
        "Ejecución del Programa"
      ],
      "metadata": {
        "id": "iWJhnKz6mzkc"
      }
    },
    {
      "cell_type": "code",
      "source": [
        "!./tp2-golang"
      ],
      "metadata": {
        "colab": {
          "base_uri": "https://localhost:8080/"
        },
        "id": "RRAhCh5mm2hp",
        "outputId": "9799cb84-2268-4565-b1e7-e73c1eac3721"
      },
      "execution_count": 6,
      "outputs": [
        {
          "output_type": "stream",
          "name": "stdout",
          "text": [
            "#### Valores de Matriz A #####\n",
            " 10  -4  23 -29   2 \n",
            "-21  -2  17  -1  15 \n",
            " 31  22  18 -27 -15 \n",
            " -7  -3   1 -27 -18 \n",
            " -2   3 -31  15  31 \n",
            "#### Valores de Matriz B #####\n",
            " 19   5  19 -12  18 \n",
            " 18  -4  -6 -13  16 \n",
            "-31  22   7   1 -29 \n",
            "-19 -23   2   4  31 \n",
            "-21   7 -13  27  22 \n",
            "\n",
            "#### Valores de Matriz CS #####\n",
            " 29   1  42 -41  20 \n",
            " -3  -6  11 -14  31 \n",
            "  0  44  25 -26 -44 \n",
            "-26 -26   3 -23  13 \n",
            "-23  10 -44  42  53 \n",
            "\n",
            "#### Valores de Matriz CC #####\n",
            " 29   1  42 -41  20 \n",
            " -3  -6  11 -14  31 \n",
            "  0  44  25 -26 -44 \n",
            "-26 -26   3 -23  13 \n",
            "-23  10 -44  42  53 \n"
          ]
        }
      ]
    },
    {
      "cell_type": "markdown",
      "source": [
        "Ejecucion del Programa Background logueando a Archivo"
      ],
      "metadata": {
        "id": "EDP8tg_KnAGV"
      }
    },
    {
      "cell_type": "code",
      "source": [
        "!nohup ./tp2-golang 1>salidaGO 2>/dev/null &"
      ],
      "metadata": {
        "id": "MUZK0kslnFk7"
      },
      "execution_count": 7,
      "outputs": []
    },
    {
      "cell_type": "markdown",
      "source": [
        "Visualizacion de log del Programa GO a un Archivo"
      ],
      "metadata": {
        "id": "IQft6TnpnK-Z"
      }
    },
    {
      "cell_type": "code",
      "source": [
        "!cat salidaGO && echo"
      ],
      "metadata": {
        "id": "opP9Bqo5nSIF"
      },
      "execution_count": null,
      "outputs": []
    },
    {
      "cell_type": "markdown",
      "source": [
        "# Comentarios\n",
        "> Fue dificil adaptarse en principio a la sintaxis de la declaraciones de variables y hacer que el programa funcione de acuerdo a lo esperado, sobre todo cuando se trata del manejo de procesos pesados. Tiene variados tipos de declaraciones que lo hacen muy particular como las declaraciones cortas que se pueden setear varias variables a la vez, y el retorno multiple a varias variables en funciones. Pero en cuanto a concurrencia tiene muchos recursos de programación que a medida que se lo conoce es mucho mejor administrado con los threads.\n",
        "\n",
        "# Conclusión\n",
        "> Go es un programa muy versátil en cuanto al uso de go routines (threads) para ejecución de programación concurrentes. Tiene herramientas de uso muy sencillo. Si bien es dificil adecuarse al lenguaje en comparación a otros, unas vez en inmerso, tiene una sintaxis más resumida que permite desarrollar programas más rápido. También tiene un muy bien manejo de concurrencia para sincronizar procesos livianos. Con lo cual es ideal para estos entornos.\n",
        "\n",
        "\n",
        "\n",
        "\n",
        "\n",
        "\n",
        "\n"
      ],
      "metadata": {
        "id": "HBksiyYvnXpI"
      }
    }
  ]
}