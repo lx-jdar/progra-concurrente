{
  "nbformat": 4,
  "nbformat_minor": 0,
  "metadata": {
    "colab": {
      "provenance": []
    },
    "kernelspec": {
      "name": "python3",
      "display_name": "Python 3"
    },
    "language_info": {
      "name": "python"
    }
  },
  "cells": [
    {
      "cell_type": "markdown",
      "source": [
        "## Trabajo práctico 2: Python"
      ],
      "metadata": {
        "id": "e0pVXZJzBPUU"
      }
    },
    {
      "cell_type": "markdown",
      "source": [
        "Creo el archivo"
      ],
      "metadata": {
        "id": "fX2EOQhbB7bk"
      }
    },
    {
      "cell_type": "code",
      "execution_count": 10,
      "metadata": {
        "colab": {
          "base_uri": "https://localhost:8080/"
        },
        "id": "4rIk9bR2_OgD",
        "outputId": "c3f78a6e-68fe-47e5-da64-b51fc0003254"
      },
      "outputs": [
        {
          "output_type": "stream",
          "name": "stdout",
          "text": [
            "Overwriting tp2.py\n"
          ]
        }
      ],
      "source": [
        "%%writefile tp2.py\n",
        "import os\n",
        "import random\n",
        "import threading\n",
        "\n",
        "RANGO_MATRIZ_CUADRADA = 5\n",
        "RANGO_MINIMO_NUMERO = -32\n",
        "RANGO_MAXIMO_NUMERO = 32\n",
        "CANTIDAD_DE_HILOS = RANGO_MATRIZ_CUADRADA\n",
        "\n",
        "threads = []\n",
        "matriz_a = [];\n",
        "matriz_b = [];\n",
        "matriz_cs = [];\n",
        "matriz_ch = [];\n",
        "\n",
        "def main():\n",
        "\n",
        "    #Creo las matrices\n",
        "    matriz_a = crear_matriz_nro_aleatorio(RANGO_MATRIZ_CUADRADA);\n",
        "    matriz_b = crear_matriz_nro_aleatorio(RANGO_MATRIZ_CUADRADA);\n",
        "\n",
        "    #Realizo la suma secuencial\n",
        "    matriz_cs = sumar_matrices_secuencial(matriz_a,matriz_b);\n",
        "    #Realizo la suma con hilos\n",
        "    suma_matrices_hilos(matriz_a, matriz_b);\n",
        "\n",
        "\n",
        "    for thread in threads:\n",
        "        thread.join();\n",
        "\n",
        "\n",
        "    print(\"\\nMostrando matriz A\\n\");\n",
        "    mostrar_matriz(matriz_a);\n",
        "\n",
        "    print(\"\\nMostrando matriz B\\n\");\n",
        "    mostrar_matriz(matriz_b);\n",
        "\n",
        "    print(\"\\nMostrando matriz secuencial\\n\");\n",
        "    mostrar_matriz(matriz_cs);\n",
        "\n",
        "    print(\"\\nMostrando matriz hilos\\n\");\n",
        "    mostrar_matriz(matriz_ch);\n",
        "\n",
        "    comparar_Matrices(matriz_ch, matriz_cs);\n",
        "\n",
        "    os._exit(0);\n",
        "\n",
        "\n",
        "def sumar_matrices_secuencial(matriz_1, matriz_2):\n",
        "    matriz_resultado = [];\n",
        "\n",
        "    for fila in range(len(matriz_1)):\n",
        "        matriz_resultado.append([]);\n",
        "        for columna in range(len(matriz_1[0])):\n",
        "            matriz_resultado[fila].append(matriz_1[fila][columna] + matriz_2[fila][columna]);\n",
        "\n",
        "    return matriz_resultado;\n",
        "\n",
        "def suma_matrices_hilos(matriz_1, matriz_2):\n",
        "    for fila in range(len(matriz_1)):\n",
        "        thread = threading.Thread(target=suma_fila_hilo, args=(matriz_1,matriz_2,fila));\n",
        "        thread.start();\n",
        "        threads.append(thread);\n",
        "\n",
        "def suma_fila_hilo(matriz_1, matriz_2, fila):\n",
        "    global matriz_ch;\n",
        "    matriz_ch.append([]);\n",
        "    for columna in range(len(matriz_1)):\n",
        "        matriz_ch[fila].append(matriz_1[fila][columna] + matriz_2[fila][columna]);\n",
        "\n",
        "\n",
        "def crear_matriz_nro_aleatorio(tamMatriz):\n",
        "    matriz = [];\n",
        "    for fila in range(tamMatriz):\n",
        "        matriz.append([]);\n",
        "        for columna in range(tamMatriz):\n",
        "            matriz[fila].append(random.randrange(RANGO_MINIMO_NUMERO,RANGO_MAXIMO_NUMERO + 1));\n",
        "    return matriz;\n",
        "\n",
        "def crear_matriz_valor(tamMatriz, valor):\n",
        "    matriz = [];\n",
        "    for fila in range(tamMatriz):\n",
        "        matriz.append([]);\n",
        "        for columna in range(tamMatriz):\n",
        "            matriz[fila].append(valor);\n",
        "    return matriz;\n",
        "\n",
        "\n",
        "def mostrar_matriz(matriz):\n",
        "    for fila in range(len(matriz)):\n",
        "        for columna in range(len(matriz[0])):\n",
        "            print(\"\\t\", matriz[fila][columna], end = \" \");\n",
        "        print();\n",
        "\n",
        "\n",
        "def comparar_Matrices(matriz_1, matriz_2):\n",
        "    matrices_iguales = True;\n",
        "    if len(matriz_1) == len(matriz_2) and len(matriz_1[0]) == len(matriz_2[0]):\n",
        "        for fila in range(len(matriz_1)):\n",
        "            for columna in range(len(matriz_1[0])):\n",
        "                if matriz_1[fila][columna] != matriz_2[fila][columna]:\n",
        "                    matrices_iguales = False;\n",
        "                    break;\n",
        "    else:\n",
        "        matrices_iguales = False;\n",
        "\n",
        "    if matrices_iguales == True:\n",
        "        print(\"\\nLas matrices son iguales\\n\");\n",
        "    else:\n",
        "        print(\"\\nLas matrices no son iguales\\n\");\n",
        "\n",
        "    return matrices_iguales;\n",
        "\n",
        "\n",
        "main()"
      ]
    },
    {
      "cell_type": "markdown",
      "source": [
        "Se verifica que existe el archivo"
      ],
      "metadata": {
        "id": "EHxopklwB5bV"
      }
    },
    {
      "cell_type": "code",
      "source": [
        "!ls -la | grep tp2.py"
      ],
      "metadata": {
        "colab": {
          "base_uri": "https://localhost:8080/"
        },
        "id": "MwC1pjDECAP4",
        "outputId": "8714a88b-5ba1-4fd5-d0f9-3e8cbc76525c"
      },
      "execution_count": 8,
      "outputs": [
        {
          "output_type": "stream",
          "name": "stdout",
          "text": [
            "-rw-r--r-- 1 root root 3086 Sep 18 02:07 tp2.py\n"
          ]
        }
      ]
    },
    {
      "cell_type": "markdown",
      "source": [
        "Se ejecuta el codigo"
      ],
      "metadata": {
        "id": "tkFx9zsvCPnh"
      }
    },
    {
      "cell_type": "code",
      "source": [
        "!python3 tp2.py"
      ],
      "metadata": {
        "colab": {
          "base_uri": "https://localhost:8080/"
        },
        "id": "5DOpVsGWCPHn",
        "outputId": "469805be-c59b-4e6a-d2a3-f4f422225309"
      },
      "execution_count": 11,
      "outputs": [
        {
          "output_type": "stream",
          "name": "stdout",
          "text": [
            "\n",
            "Mostrando matriz A\n",
            "\n",
            "\t -24 \t 16 \t -1 \t 26 \t -14 \n",
            "\t 23 \t -4 \t -21 \t -29 \t -1 \n",
            "\t -16 \t -17 \t 7 \t 10 \t 15 \n",
            "\t 27 \t 30 \t -8 \t -5 \t 21 \n",
            "\t -27 \t -31 \t -6 \t 5 \t 14 \n",
            "\n",
            "Mostrando matriz B\n",
            "\n",
            "\t 17 \t -15 \t 19 \t -17 \t -31 \n",
            "\t 5 \t 7 \t -1 \t 5 \t -13 \n",
            "\t 23 \t -6 \t 12 \t -27 \t 6 \n",
            "\t 20 \t 13 \t -27 \t 28 \t -22 \n",
            "\t 7 \t 3 \t 10 \t -12 \t -28 \n",
            "\n",
            "Mostrando matriz secuencial\n",
            "\n",
            "\t -7 \t 1 \t 18 \t 9 \t -45 \n",
            "\t 28 \t 3 \t -22 \t -24 \t -14 \n",
            "\t 7 \t -23 \t 19 \t -17 \t 21 \n",
            "\t 47 \t 43 \t -35 \t 23 \t -1 \n",
            "\t -20 \t -28 \t 4 \t -7 \t -14 \n",
            "\n",
            "Mostrando matriz hilos\n",
            "\n",
            "\t -7 \t 1 \t 18 \t 9 \t -45 \n",
            "\t 28 \t 3 \t -22 \t -24 \t -14 \n",
            "\t 7 \t -23 \t 19 \t -17 \t 21 \n",
            "\t 47 \t 43 \t -35 \t 23 \t -1 \n",
            "\t -20 \t -28 \t 4 \t -7 \t -14 \n",
            "\n",
            "Las matrices son iguales\n",
            "\n"
          ]
        }
      ]
    }
  ]
}