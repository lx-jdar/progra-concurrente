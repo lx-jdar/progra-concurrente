{
  "nbformat": 4,
  "nbformat_minor": 0,
  "metadata": {
    "colab": {
      "provenance": [],
      "authorship_tag": "ABX9TyMfpwVCGMLeAu6/gIEQCGa7",
      "include_colab_link": true
    },
    "kernelspec": {
      "name": "python3",
      "display_name": "Python 3"
    },
    "language_info": {
      "name": "python"
    }
  },
  "cells": [
    {
      "cell_type": "markdown",
      "metadata": {
        "id": "view-in-github",
        "colab_type": "text"
      },
      "source": [
        "<a href=\"https://colab.research.google.com/github/lx-jdar/progra-concurrente/blob/development/tp2/java/TP2_JavaHilos.ipynb\" target=\"_parent\"><img src=\"https://colab.research.google.com/assets/colab-badge.svg\" alt=\"Open In Colab\"/></a>"
      ]
    },
    {
      "cell_type": "markdown",
      "source": [
        "# Trabajo práctico 2: Java"
      ],
      "metadata": {
        "id": "14U0AbKWyrpm"
      }
    },
    {
      "cell_type": "markdown",
      "source": [
        "Creación del Archivo Java"
      ],
      "metadata": {
        "id": "cVFB6HeNw3-c"
      }
    },
    {
      "cell_type": "code",
      "execution_count": 1,
      "metadata": {
        "colab": {
          "base_uri": "https://localhost:8080/"
        },
        "id": "bqnbYaj4wNIG",
        "outputId": "e01d8a11-3f99-4eb1-8409-e2a6b8c1bcc3"
      },
      "outputs": [
        {
          "output_type": "stream",
          "name": "stdout",
          "text": [
            "Writing App.java\n"
          ]
        }
      ],
      "source": [
        "%%writefile App.java\n",
        "import java.util.Random;\n",
        "\n",
        "public class App\n",
        "{\n",
        "\n",
        "    static int[][] matrix1;\n",
        "    static int[][] matrix2;\n",
        "    static int size = 5;\n",
        "    static int minRange = -32;\n",
        "    static int maxRange = 32;\n",
        "\n",
        "    static int[][] matrixSec;\n",
        "    static int[][] matrixCon;\n",
        "\n",
        "    public static class MyThread extends Thread\n",
        "    {\n",
        "        int row;\n",
        "\n",
        "        public MyThread(int row)\n",
        "        {\n",
        "            this.row = row;\n",
        "        }\n",
        "\n",
        "        public void run()\n",
        "        {\n",
        "            for (int i = 0; i < size; i++)\n",
        "            {\n",
        "                matrixCon[row][i] = matrix1[row][i] + matrix2[row][i];\n",
        "            }\n",
        "        }\n",
        "\n",
        "    }\n",
        "\n",
        "    public static void print2D(int mat[][])\n",
        "    {\n",
        "        for (int i = 0; i < size; i++)\n",
        "        {\n",
        "            for (int j = 0; j < size; j++)\n",
        "            {\n",
        "                System.out.print(mat[i][j] + \" \");\n",
        "            }\n",
        "            System.out.println();\n",
        "        }\n",
        "\n",
        "    }\n",
        "\n",
        "    public static int[][] generateMatrix(int size, int min, int max)\n",
        "    {\n",
        "        int[][] matrix = new int[size][size];\n",
        "        for (int i = 0; i < size; i++)\n",
        "        {\n",
        "            for (int j = 0; j < size; j++)\n",
        "            {\n",
        "                Random random = new Random();\n",
        "                matrix[i][j] = random.nextInt(max - min + 1) + min;\n",
        "            }\n",
        "        }\n",
        "        return matrix;\n",
        "    }\n",
        "\n",
        "    public static int[][] sumMatrix(int[][] mat1, int[][] mat2)\n",
        "    {\n",
        "        int[][] matRes = new int[size][size];\n",
        "\n",
        "        for (int i = 0; i < size; i++)\n",
        "        {\n",
        "            for (int j = 0; j < size; j++)\n",
        "            {\n",
        "                matRes[i][j] = mat1[i][j] + mat2[i][j];\n",
        "            }\n",
        "        }\n",
        "\n",
        "        return matRes;\n",
        "    }\n",
        "\n",
        "    public static boolean matrixAreEqual(int[][] mat1, int[][] mat2)\n",
        "    {\n",
        "        for (int i = 0; i < size; i++)\n",
        "        {\n",
        "            for (int j = 0; j < size; j++)\n",
        "            {\n",
        "                if (mat1[i][j] != mat2[i][j])\n",
        "                {\n",
        "                    return false;\n",
        "                }\n",
        "            }\n",
        "        }\n",
        "\n",
        "        return true;\n",
        "    }\n",
        "\n",
        "    public static void main(String[] args) throws Exception\n",
        "    {\n",
        "        Thread[] threads = new Thread[size];\n",
        "\n",
        "        matrix1 = generateMatrix(size, minRange, maxRange);\n",
        "        matrix2 = generateMatrix(size, minRange, maxRange);\n",
        "\n",
        "        matrixSec = sumMatrix(matrix1, matrix2);\n",
        "        matrixCon = new int[size][size];\n",
        "\n",
        "        for (int i = 0; i < size; i++)\n",
        "        {\n",
        "            threads[i] = new MyThread(i);\n",
        "        }\n",
        "\n",
        "        for (int i = 0; i < size; i++)\n",
        "        {\n",
        "            threads[i].start();\n",
        "        }\n",
        "\n",
        "        for (int i = 0; i < size; i++)\n",
        "        {\n",
        "            threads[i].join();\n",
        "        }\n",
        "\n",
        "\n",
        "        System.out.print(\"   Matrix 1\\n\");\n",
        "        System.out.println(\"---------------\");\n",
        "        print2D(matrix1);\n",
        "        System.out.println();\n",
        "\n",
        "        System.out.print(\"   Matrix 2\\n\");\n",
        "        System.out.println(\"---------------\");\n",
        "        print2D(matrix2);\n",
        "        System.out.println();\n",
        "\n",
        "        System.out.print(\"   Matrix CS\\n\");\n",
        "        System.out.println(\"---------------\");\n",
        "        print2D(matrixSec);\n",
        "        System.out.println();\n",
        "\n",
        "        System.out.print(\"   Matrix CC\\n\");\n",
        "        System.out.println(\"---------------\");\n",
        "        print2D(matrixCon);\n",
        "        System.out.println();\n",
        "\n",
        "        System.out.println(\"Matrix CS and CC equal: \" + matrixAreEqual(matrixSec, matrixCon));\n",
        "    }\n",
        "}"
      ]
    },
    {
      "cell_type": "markdown",
      "source": [
        "Compilacion del Archivo java"
      ],
      "metadata": {
        "id": "Gmilgl0AxCZ6"
      }
    },
    {
      "cell_type": "code",
      "source": [
        "!javac App.java"
      ],
      "metadata": {
        "id": "Hs2XmoRmxEQk"
      },
      "execution_count": 2,
      "outputs": []
    },
    {
      "cell_type": "markdown",
      "source": [
        "Ejecución del Programa en Consola"
      ],
      "metadata": {
        "id": "uF0nOX4PxH0E"
      }
    },
    {
      "cell_type": "code",
      "source": [
        "!java App"
      ],
      "metadata": {
        "id": "8ZlaWqi0xPqj"
      },
      "execution_count": null,
      "outputs": []
    },
    {
      "cell_type": "markdown",
      "source": [
        "Ejecución del Proceso y salida por archivo"
      ],
      "metadata": {
        "id": "yo2umTo2xV-v"
      }
    },
    {
      "cell_type": "code",
      "source": [
        "!nohup java App 1>salidaJava 2>/dev/null &"
      ],
      "metadata": {
        "id": "uBeXSihAxg3A"
      },
      "execution_count": 4,
      "outputs": []
    },
    {
      "cell_type": "markdown",
      "source": [
        "Visualizacion de log en Archivo del Programa Java"
      ],
      "metadata": {
        "id": "9CjA3Gosxkdr"
      }
    },
    {
      "cell_type": "code",
      "source": [
        "!cat salidaJava"
      ],
      "metadata": {
        "id": "n2H_rJlxxmS0"
      },
      "execution_count": null,
      "outputs": []
    }
  ]
}