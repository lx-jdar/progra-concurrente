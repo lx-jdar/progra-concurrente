{
  "nbformat": 4,
  "nbformat_minor": 0,
  "metadata": {
    "colab": {
      "provenance": [],
      "private_outputs": true,
      "collapsed_sections": [
        "apisS7HOLQqF",
        "wHjoeL_wLguS",
        "mJxlhR-PHc4M",
        "rBsWMz-fIEaW",
        "feerSPFJI4UV"
      ],
      "include_colab_link": true
    },
    "kernelspec": {
      "display_name": "Python 3",
      "name": "python3"
    }
  },
  "cells": [
    {
      "cell_type": "markdown",
      "metadata": {
        "id": "view-in-github",
        "colab_type": "text"
      },
      "source": [
        "<a href=\"https://colab.research.google.com/github/lx-jdar/progra-concurrente/blob/development/TP2_P1_M4_OpenMP.ipynb\" target=\"_parent\"><img src=\"https://colab.research.google.com/assets/colab-badge.svg\" alt=\"Open In Colab\"/></a>"
      ]
    },
    {
      "cell_type": "markdown",
      "metadata": {
        "id": "th1ZsKBrRMrn"
      },
      "source": [
        "# Programación Concurrente - TP3 - Parte 1\n",
        "\n",
        "Utilizamos 2 prácticas con OpenMP desarrolladas en lenguaje C/C++ nativo en plataforma colab.\n",
        "\n"
      ]
    },
    {
      "cell_type": "markdown",
      "source": [
        "\n",
        "En la clase se utiliza dos codigos, uno para la creación de hilos mediante la herramienta OMP en donde cada hilo es creado por el main definido la variable OMP_NUM_THREADS en 7. Cada hilo muestra el mensaje \"Hola Mundo...\"con su correspondiente numero de hilo del total que se crearon.\n",
        "El segundo código se trata de determinar la performance de realizar operaciones en forma secuencial versus utilizando la herramienta OpenMP. Se puede observar que la api aprovecha mejor los recursos, resultando en una mejor performance en la ejecución.\n"
      ],
      "metadata": {
        "id": "VoGD_7E9vc8I"
      }
    },
    {
      "cell_type": "markdown",
      "metadata": {
        "id": "XtuoNACar7c-"
      },
      "source": [
        "---\n",
        "## 1.1. Ejercicio 1 - Hola Mundo estilo Programación Concurrente\n"
      ]
    },
    {
      "cell_type": "markdown",
      "source": [
        "### 1.1.1. Preguntas ejercicio 1:\n",
        "\n",
        "a) Identifique los 3 componentes de openMP en el ejercicio 1.\n",
        "\n",
        "El import de la librería omp.h, cabecera \"#pragma omp\" para definir codigo omp paralelizable y la variable de entorno OMP_NUM_THREADS que indica la cantidad de hilos\n",
        "\n",
        "b) Realice pruebas modificando la cantidad de hilos (1, 3, 7). Que conclusiones pudo determinar?.\n",
        "\n",
        "Con 1 thread, no hay problem en el uso de la pantalla para mostrar los mensajes. Pero si hay mas de un hilo, 3, 7. etc, se hace un mal uso de la pantalla, compitiendo los threads para mostrar la información, con lo cual puede ser que los mensajes de los threads se muestren en la misma linea, cuando en realidad se deberían mostrar uno debajo de otro\n",
        "\n",
        "c) ¿Cuál es la diferencia las formas de asignación *static* y *dynamic* en la cláusula *schedule*?, ¿Qué sucede si utiliza *dynamic* en el código?\n",
        "\n",
        "Cuando hay referencias repetidas a los mismos objetos, la elección de programación para una construcción for puede determinarse principalmente por características del sistema de memoria, como la presencia y el tamaño de cachés y si los tiempos de acceso a la memoria son uniformes o no uniformes. Estas consideraciones pueden hacer que sea preferible que cada subproceso haga referencia de forma coherente al mismo conjunto de elementos de una matriz en una serie de bucles, incluso si a algunos subprocesos se les asigna relativamente menos trabajo en algunos de los bucles. Esta configuración se puede realizar mediante la programación static con los mismos límites para todos los bucles. Ejemplo:\n",
        "\n",
        "\n",
        "```\n",
        "#pragma omp parallel\n",
        "{\n",
        "#pragma omp for schedule(static)\n",
        "  for(i=0; i<n; i++)\n",
        "    a[i] = work1(i);\n",
        "#pragma omp for schedule(static)\n",
        "  for(i=0; i<n; i++)\n",
        "    if(i>=k) a[i] += work2(i);\n",
        "}\n",
        "\n",
        "```\n",
        "La programación dynamic es adecuada para el caso de una construcción for con las iteraciones que requieren cantidades de trabajo variables, o incluso impredecibles. La programación dynamic se caracteriza por la propiedad de que ningún subproceso espera en la barrera durante más tiempo que el que le toma a otro subproceso ejecutar su iteración final. Este requisito significa que las iteraciones se deben asignar de una en una a los subprocesos a medida que estén disponibles, con sincronización para cada asignación. Ejemplo:\n",
        "\n",
        "```\n",
        "#pragma omp parallel for schedule(dynamic)\n",
        "  for(i=0; i<n; i++) {\n",
        "    unpredictable_amount_of_work(i);\n",
        "}\n",
        "```\n",
        "En nuestro ejemplo de código no seria apropiado, ya que el thread en su ejecución es predecible, lo cual estaría generando overhead. Si es un codigo que no es deterministico si sería util el uso de dynamic\n",
        "\n",
        "d) En el for: ¿Que sucede con el valor de j, sí se parametriza como lastprivate?\n",
        "\n",
        "Las variables especificadas en la variable-list tienen semántica de cláusulas private. La inicialización o construcción ocurre como si se realizara una vez por subproceso, antes de la ejecución del subproceso de la construcción. Es decir, la variable j, tiene el valor que se definió en el hilo maestro. y cada hilo tiene una copia del valor cuando se definió en el principal. Luego terminado los hilos, el hilo maestro sigue conservando la variable como la tenía definida antes de llamar a los hilos hijos\n"
      ],
      "metadata": {
        "id": "apisS7HOLQqF"
      }
    },
    {
      "cell_type": "markdown",
      "source": [
        "### 1.1.2. Código Lenguaje C"
      ],
      "metadata": {
        "id": "QQDtKmswLVOm"
      }
    },
    {
      "cell_type": "code",
      "metadata": {
        "id": "fEbO8EXWm4mL"
      },
      "source": [
        "%%writefile code.cpp\n",
        "\n",
        "// Hola Mundo desde OpenMP, usando c, ejecutado en Colab.\n",
        "\n",
        "#include <iostream>\n",
        "#include <vector>\n",
        "#include <omp.h>    // Cabecera OpenMP\n",
        "\n",
        "int main(int argc, char* argv[])\n",
        "{\n",
        "  int i,j=0,sum=1;\n",
        "  std::cout<<\"Inicio...\"<<std::endl;\n",
        "\n",
        "  //-----------------------------------------------------------------------------------------------\n",
        "  // Region paralela\n",
        "  #pragma omp parallel\n",
        "  {\n",
        "        int count_suc = atoi( argv[1] );\n",
        "        int ventas_x_sucursal[count_suc][DAYS];\n",
        "        int total = 0;\n",
        "\n",
        "        srand(SEED);\n",
        "        for (int i = 0; i < count_suc; i++)\n",
        "        {\n",
        "            for (int j = 0; j < DAYS; j++)\n",
        "            {\n",
        "                ventas_x_sucursal[i][j] = (rand() % (LIMIT_SUP - LIMIT_INF + 1)) + LIMIT_INF;\n",
        "            }\n",
        "        }\n",
        "\n",
        "        for (int i = 0; i < count_suc; i++)\n",
        "        {\n",
        "            for (int j = 0; j < DAYS; j++)\n",
        "            {\n",
        "                printf(\"%d \\t\", ventas_x_sucursal[i][j]);\n",
        "            }\n",
        "            printf(\"\\n\");\n",
        "        }\n",
        "        //\n",
        "        // Completar código faltante\n",
        "        //\n",
        "        #pragma omp parallel for\n",
        "        for (int i = 0; i < count_suc; i++)\n",
        "        {\n",
        "            #pragma omp critical\n",
        "            for (int j = 0; j < DAYS; j++)\n",
        "            {\n",
        "                total+=ventas_x_sucursal[i][j];\n",
        "            }\n",
        "        }\n",
        "        printf(\"%d\\n\", total);\n",
        "  }\n",
        "  // Region paralela\n",
        "  //-----------------------------------------------------------------------------------------------\n",
        "\n",
        "  std::cout<<\"Fin..., con j=\"<<j<<std::endl;\n",
        "  std::cout<<sum<<std::endl;\n",
        "}"
      ],
      "execution_count": null,
      "outputs": []
    },
    {
      "cell_type": "markdown",
      "metadata": {
        "id": "R2CUqGa2NSPh"
      },
      "source": [
        "### 1.1.3 Compilación de Hola Mundo."
      ]
    },
    {
      "cell_type": "code",
      "metadata": {
        "id": "xLk4a5lTnOEI"
      },
      "source": [
        "!g++ -o ejercicio_1 -fopenmp code.cpp"
      ],
      "execution_count": null,
      "outputs": []
    },
    {
      "cell_type": "code",
      "source": [
        "!cat /proc/cpuinfo | grep \"cpu cores\""
      ],
      "metadata": {
        "id": "svODxIJcOnd0"
      },
      "execution_count": null,
      "outputs": []
    },
    {
      "cell_type": "markdown",
      "metadata": {
        "id": "NO--9RYTNe91"
      },
      "source": [
        "### 1.1.4. Ejecución Hola Mundo en OpenMP."
      ]
    },
    {
      "cell_type": "code",
      "metadata": {
        "id": "98G8IH-NnGHQ"
      },
      "source": [
        "%env OMP_NUM_THREADS=7\n",
        "!./ejercicio_1"
      ],
      "execution_count": null,
      "outputs": []
    },
    {
      "cell_type": "markdown",
      "source": [
        "---\n",
        "## 1.2. Ejercicio 2 - Código Faltante\n",
        "Suponiendo que una empresa desea contabilizar las ventas totales de todas sus sucursales en un periodo de 15 días, se solicita completar la sección de código faltante con el objetivo de realizar dicha tarea de forma concurrente.\n",
        "\n",
        "Nota: El número de sucursales es un parámetro de entrada."
      ],
      "metadata": {
        "id": "WDPR-Fqq1cCZ"
      }
    },
    {
      "cell_type": "code",
      "source": [
        "%%writefile total_ventas.cpp\n",
        "\n",
        "#include <omp.h>\n",
        "#include <stdio.h>\n",
        "#include <stdlib.h>\n",
        "\n",
        "#define SEED 4\n",
        "#define LIMIT_INF 0\n",
        "#define LIMIT_SUP 100\n",
        "#define DAYS 15\n",
        "\n",
        "\n",
        "int main(int argc, char* argv[]){\n",
        "    if(argv[1])\n",
        "    {\n",
        "        int count_suc = atoi( argv[1] );\n",
        "        int ventas_x_sucursal[count_suc][DAYS];\n",
        "        int total = 0;\n",
        "\n",
        "        srand(SEED);\n",
        "        for (int i = 0; i < count_suc; i++)\n",
        "        {\n",
        "            for (int j = 0; j < DAYS; j++)\n",
        "            {\n",
        "                ventas_x_sucursal[i][j] = (rand() % (LIMIT_SUP - LIMIT_INF + 1)) + LIMIT_INF;\n",
        "            }\n",
        "        }\n",
        "\n",
        "        for (int i = 0; i < count_suc; i++)\n",
        "        {\n",
        "            for (int j = 0; j < DAYS; j++)\n",
        "            {\n",
        "                printf(\"%d \\t\", ventas_x_sucursal[i][j]);\n",
        "            }\n",
        "            printf(\"\\n\");\n",
        "        }\n",
        "        //\n",
        "        // Completar código faltante\n",
        "        //\n",
        "        #pragma omp parallel\n",
        "        {\n",
        "            #pragma omp for\n",
        "            for (int i = 0; i < count_suc; i++)\n",
        "            {\n",
        "\n",
        "              for (int j = 0; j < DAYS; j++)\n",
        "              {\n",
        "                  total+=ventas_x_sucursal[i][j];\n",
        "              }\n",
        "              printf(\"\\n\");\n",
        "            }\n",
        "        }\n",
        "        printf(\"%d\\n\", total);\n",
        "    }\n",
        "    else\n",
        "    {\n",
        "        printf(\"Por favor, ingrese la cantidad de sucursales\");\n",
        "    }\n",
        "}"
      ],
      "metadata": {
        "id": "jh3-pt_x2HY2"
      },
      "execution_count": null,
      "outputs": []
    },
    {
      "cell_type": "code",
      "source": [
        "%env OMP_NUM_THREADS=4\n",
        "!g++ -o total_ventas -fopenmp total_ventas.cpp"
      ],
      "metadata": {
        "id": "2z1nV8Xt8JYR"
      },
      "execution_count": null,
      "outputs": []
    },
    {
      "cell_type": "code",
      "source": [
        "!./total_ventas 5"
      ],
      "metadata": {
        "id": "Q7NkoZdd8O56"
      },
      "execution_count": null,
      "outputs": []
    },
    {
      "cell_type": "markdown",
      "metadata": {
        "id": "3PQxHPkDdo42"
      },
      "source": [
        "# ---\n",
        "## 1.3. Ejercicio 3 - Axpy\n",
        "\n",
        "La función Axpy es parte de las bibliotecas BLAS [3]. Ella se encarga de realizar la suma de vectores, con la siguiente ecuación:\n",
        "\n",
        "<center>$Y = \\alpha X + Y$</center>\n",
        "\n",
        "En donde:\n",
        "> $\\alpha$: Es un escala.\n",
        "\n",
        "> $X$: Es el vector origen.\n",
        "\n",
        "> $Y$: Es el vector destino.\n"
      ]
    },
    {
      "cell_type": "markdown",
      "source": [
        "### 1.3.1 Preguntas Ejercicio 3\n",
        "a) Ejecute el ejercicio 1.3.2:\n",
        "\n",
        "    - Con la variable cantidad_N para: 50, 50.000.\n",
        "    - Con los valores hilos_ 2, 6.\n",
        "\n",
        "b) Repita la prueba (a), con ciclos 10, 100. ¿Cuál fue la diferencia?\n",
        "\n",
        "Depende de la cantidad de ciclos, la velocidad de procesamiento en forma secuencial vs paralela puede nos ser tan performante como se espera.\n",
        "Cuando el tamaño del array es pequeño, no es muy relevante el uso de paralelismo con OMP, los resultados se indica que con un hilo, es suficiente para administrar el tamaño del array. A medida que crece la cantidad de elementos (de 50 a 50.000), la ejecución secuencial empieza a no ser performante, y se produce un ahorro de costo al hacer uso de paralelismo mediante threads.\n",
        "\n",
        "c) ¿Cómo varía el SpeedUp a medida que aumenta o disminuye la cantidad de hilos?\n",
        "En algunos casos el SpeedUp es menor a cero y en otros casos dependiendo la cantidad de elementos es mayor a 1.\n",
        "\n",
        "env: OMP_NUM_THREADS=2 && cant_N=50 && Ciclos=10\n",
        "SpeedUp : (tiempo Secuencial/tiempo paralelo) : 0.0209808 / 0.0789165 = 0.265861\n",
        "\n",
        "env: OMP_NUM_THREADS=6 && cant_N=50 && Ciclos=10\n",
        "SpeedUp : (tiempo Secuencial/tiempo paralelo) : 0.0290871 / 1.94216 = 0.0149767\n",
        "\n",
        "env: OMP_NUM_THREADS=2 && cant_N=50.000 && Ciclos=10\n",
        "SpeedUp : (tiempo Secuencial/tiempo paralelo) : 6.30498 / 4.43506 = 1.42162\n",
        "\n",
        "env: OMP_NUM_THREADS=6 && cant_N=50.000 && Ciclos=10\n",
        "SpeedUp          : (tiempo Secuencial/tiempo paralelo) : 4.89593 / 5.548 = 0.882467\n",
        "\n",
        "env: OMP_NUM_THREADS=2 && cant_N=50 && Ciclos=100\n",
        "SpeedUp          : (tiempo Secuencial/tiempo paralelo) : 0.14782 / 1.47581 = 0.100162\n",
        "\n",
        "env: OMP_NUM_THREADS=6 && cant_N=50 && Ciclos=100\n",
        "SpeedUp          : (tiempo Secuencial/tiempo paralelo) : 0.128984 / 5.09 = 0.0253408\n",
        "\n",
        "env: OMP_NUM_THREADS=2 && cant_N=50.000 && Ciclos=100\n",
        "SpeedUp          : (tiempo Secuencial/tiempo paralelo) : 52.017 / 47.3042 = 1.09963\n",
        "\n",
        "env: OMP_NUM_THREADS=6 && cant_N=50.000 && Ciclos=100\n",
        "SpeedUp          : (tiempo Secuencial/tiempo paralelo) : 52.0389 / 56.9491 = 0.913779\n",
        "\n",
        "Como se observa, con un tamaño de 50.000 es recién que se obtiene una ganancia mayor a 1. Pero superar la cantidad de threads, no necesariamente se traduce en ganancia, tal es el caso de la última ejecución que el SpeedUp dio 0.91\n",
        "\n",
        "d) ¿Qué sucede con la eficiencia a medida que aumentan la cantidad_N?¿Porqué no llega al valor ideal?.\n",
        "Cuando aumenta la cantidad de N, el uso de paralelismo para el manejo de elementos, se ve beneficiado, pero no así si se excede el nro de hilos para realizar las tareas. Por lo que se observa, el valor ideal no es alcanzado porque en el valor Ideal mayormente no se considera el overhead, que en el modelo real si existe y es bastante. Si para un numero pequeño de elementos se utiliza muchos hilos, el overhead se consume todo lo que se usa para procesar los elementos de las matrices y no se obtiene mejoras en el tratamiento de los mismos.\n"
      ],
      "metadata": {
        "id": "wHjoeL_wLguS"
      }
    },
    {
      "cell_type": "markdown",
      "source": [
        "### 1.3.2 Código Lenguaje C"
      ],
      "metadata": {
        "id": "wxsaxk7FSkmh"
      }
    },
    {
      "cell_type": "code",
      "metadata": {
        "id": "zLE3iWiJsM0G"
      },
      "source": [
        "%%writefile code_axpy.cpp\n",
        "// Axpy con OpenMP, usando c, ejecutado en Colab.\n",
        "\n",
        "#include <iostream>\n",
        "#include <vector>\n",
        "#include <cstdlib>\n",
        "#include <sys/time.h>\n",
        "#include <omp.h>    // Cabecera OpenMP\n",
        "\n",
        "// ----------------------------------------------------------------------------\n",
        "// Macros que miden el tiempo.\n",
        "\n",
        "static double dHashTiempoHistory[3];\n",
        "static struct timeval tv;\n",
        "\n",
        "#define TIEMPO_INI( h )      \\\n",
        "   gettimeofday(&tv,NULL);   \\\n",
        "   dHashTiempoHistory[ h ] = tv.tv_sec + tv.tv_usec/1000000.0;\n",
        "\n",
        "\n",
        "#define TIEMPO_FIN( h )      \\\n",
        "   gettimeofday(&tv,NULL);   \\\n",
        "   dHashTiempoHistory[ h ] = ((tv.tv_sec + tv.tv_usec/1000000.0) - dHashTiempoHistory[ h ]) * 1000; // Devuelvo en milisegundos\n",
        "#define TIEMPO_GET( h ) dHashTiempoHistory[ h ]\n",
        "\n",
        "#define HTH_TOTAL         1\n",
        "#define HTH_AXPY_SEC      2\n",
        "#define HTH_AXPY_OMP      3\n",
        "\n",
        "using namespace std;\n",
        "\n",
        "// ----------------------------------------------------------------------------\n",
        "\n",
        "void axpy( double alfa, vector<double> &X, vector<double> &Y )\n",
        "{\n",
        "  int i;\n",
        "\n",
        "  #pragma omp parallel for\n",
        "  for(i=0;i<Y.size();i++)\n",
        "  {\n",
        "    Y[i] = alfa * X[i] + Y[i];\n",
        "  }\n",
        "}\n",
        "\n",
        "// ----------------------------------------------------------------------------\n",
        "\n",
        "int main(int argc, char* argv[])\n",
        "{\n",
        "  int i,c;\n",
        "  TIEMPO_INI( HTH_TOTAL )\n",
        "\n",
        "  // Leo los parametros.\n",
        "  if( argc != 4 )\n",
        "  {\n",
        "      std::cerr<< \" Error en los parametros de indicar: (alfa), (Tamanio vector), (ciclos ejecucion).\"<<argc<<std::endl;\n",
        "      exit( -1 );\n",
        "  }\n",
        "\n",
        "  float alfa     = atof( argv[1] );\n",
        "  int cantidad_N = atoi( argv[2] );\n",
        "  int ciclos     = atoi( argv[3] );\n",
        "\n",
        "  // --------------------------------------------\n",
        "  // Defino la memoria de los vectores.\n",
        "\n",
        "  vector<double> X( cantidad_N );\n",
        "  vector<double> Y( cantidad_N );\n",
        "\n",
        "  for (int i=0;i<X.size();i++)\n",
        "  {\n",
        "    X[i] = (rand()/(double)RAND_MAX)*0.73;\n",
        "    Y[i] = (rand()/(double)RAND_MAX)*0.71;\n",
        "  }\n",
        "\n",
        "  // --------------------------------------------\n",
        "  // Realizo la función Axpy con OpenMP.\n",
        "\n",
        "  TIEMPO_INI( HTH_AXPY_OMP )\n",
        "\n",
        "  for(c=0;c<ciclos;c++)\n",
        "  {\n",
        "    axpy( alfa, X, Y );\n",
        "  }\n",
        "\n",
        "  TIEMPO_FIN( HTH_AXPY_OMP )\n",
        "\n",
        "  // --------------------------------------------\n",
        "  // Realizo la función Axpy en forma secuencial.\n",
        "\n",
        "  omp_set_num_threads(1);\n",
        "\n",
        "  TIEMPO_INI( HTH_AXPY_SEC )\n",
        "\n",
        "  for(c=0;c<ciclos;c++)\n",
        "  {\n",
        "    axpy( alfa, X, Y );\n",
        "  }\n",
        "\n",
        "  TIEMPO_FIN( HTH_AXPY_SEC )\n",
        "\n",
        "  TIEMPO_FIN( HTH_TOTAL )\n",
        "\n",
        " std::cout<<\"Valores Reales  :\" <<std::endl;\n",
        " std::cout<<\"Tiempo TOTAL     : \"<<TIEMPO_GET(HTH_TOTAL   )<<\" [ms]\"<<std::endl;\n",
        " std::cout<<\"Tiempo axpy Sec  : \"<<TIEMPO_GET(HTH_AXPY_SEC)<<\" [ms]\"<<std::endl;\n",
        " std::cout<<\"Tiempo axpy Omp  : \"<<TIEMPO_GET(HTH_AXPY_OMP)<<\" [ms]\"<<std::endl;\n",
        " std::cout<<std::endl;\n",
        " std::cout<<\"SpeedUp          : (tiempo Secuencial/tiempo paralelo) : \"<<TIEMPO_GET(HTH_AXPY_SEC)<<\" / \"<<TIEMPO_GET(HTH_AXPY_OMP)<<\" = \"<<TIEMPO_GET(HTH_AXPY_SEC)/TIEMPO_GET(HTH_AXPY_OMP)<<std::endl;\n",
        " std::cout<<\"Eficiencia       : SpeedUp/nro procesadores            : \"<<TIEMPO_GET(HTH_AXPY_SEC)/TIEMPO_GET(HTH_AXPY_OMP)<<\" / \"<<omp_get_num_procs()<<\" = \"<<TIEMPO_GET(HTH_AXPY_SEC)/(omp_get_num_procs()*TIEMPO_GET(HTH_AXPY_OMP))<<std::endl;\n",
        " std::cout<<\"Coste Sec        : nro procesadores*Tiempo             : \"<<1<<\" * \"<<TIEMPO_GET(HTH_AXPY_SEC)<<\" = \"<<TIEMPO_GET(HTH_AXPY_SEC)<<std::endl;\n",
        " std::cout<<\"Coste Omp        : nro procesadores*Tiempo             : \"<<omp_get_num_procs()<<\" * \"<<TIEMPO_GET(HTH_AXPY_OMP)<<\" = \"<<omp_get_num_procs()*TIEMPO_GET(HTH_AXPY_OMP)<<std::endl;\n",
        " std::cout<<\"Funcion Overhead : Coste Omp - tiempo Secuencial       : \"<<omp_get_num_procs()*TIEMPO_GET(HTH_AXPY_OMP)<<\" - \"<<TIEMPO_GET(HTH_AXPY_SEC)<<\" = \"<<(omp_get_num_procs()*TIEMPO_GET(HTH_AXPY_OMP))-TIEMPO_GET(HTH_AXPY_SEC)<<std::endl;\n",
        "\n",
        "\n",
        " std::cout<<std::endl;\n",
        " std::cout<<\"Valores Ideal: \"<<std::endl;\n",
        " TIEMPO_GET(HTH_AXPY_OMP) = TIEMPO_GET(HTH_AXPY_SEC) / omp_get_num_procs();\n",
        " std::cout<<\"Tiempo axpy Sec  : \"<<TIEMPO_GET(HTH_AXPY_SEC)<<\" [ms]\"<<std::endl;\n",
        " std::cout<<\"Tiempo axpy Omp  : \"<<TIEMPO_GET(HTH_AXPY_OMP)<<\" [ms]\"<<std::endl;\n",
        "\n",
        " std::cout<<\"SpeedUp          : (tiempo Secuencial/tiempo paralelo) : \"<<TIEMPO_GET(HTH_AXPY_SEC)<<\" / \"<<TIEMPO_GET(HTH_AXPY_OMP)<<\" = \"<<TIEMPO_GET(HTH_AXPY_SEC)/TIEMPO_GET(HTH_AXPY_OMP)<<std::endl;\n",
        " std::cout<<\"Eficiencia       : SpeedUp/nro procesadores            : \"<<TIEMPO_GET(HTH_AXPY_SEC)/TIEMPO_GET(HTH_AXPY_OMP)<<\" / \"<<omp_get_num_procs()<<\" = \"<<TIEMPO_GET(HTH_AXPY_SEC)/(omp_get_num_procs()*TIEMPO_GET(HTH_AXPY_OMP))<<std::endl;\n",
        " std::cout<<\"Coste Sec        : nro procesadores*Tiempo             : \"<<1<<\" * \"<<TIEMPO_GET(HTH_AXPY_SEC)<<\" = \"<<TIEMPO_GET(HTH_AXPY_SEC)<<std::endl;\n",
        " std::cout<<\"Coste Omp        : nro procesadores*Tiempo             : \"<<omp_get_num_procs()<<\" * \"<<TIEMPO_GET(HTH_AXPY_OMP)<<\" = \"<<omp_get_num_procs()*TIEMPO_GET(HTH_AXPY_OMP)<<std::endl;\n",
        " std::cout<<\"Funcion Overhead : Coste Omp - tiempo Secuencial       : \"<<omp_get_num_procs()*TIEMPO_GET(HTH_AXPY_OMP)<<\" - \"<<TIEMPO_GET(HTH_AXPY_SEC)<<\" = \"<<(omp_get_num_procs()*TIEMPO_GET(HTH_AXPY_OMP))-TIEMPO_GET(HTH_AXPY_SEC)<<std::endl;\n",
        "\n",
        "\n",
        "}\n",
        "// ----------------------------------------------------------------------------"
      ],
      "execution_count": null,
      "outputs": []
    },
    {
      "cell_type": "markdown",
      "metadata": {
        "id": "3ClX3MgbLn2m"
      },
      "source": [
        "### 1.3.3. Compilación de código C Axpy."
      ]
    },
    {
      "cell_type": "code",
      "metadata": {
        "id": "b2PUrH_7tKUS"
      },
      "source": [
        "!g++ -o axpy -fopenmp code_axpy.cpp"
      ],
      "execution_count": null,
      "outputs": []
    },
    {
      "cell_type": "markdown",
      "metadata": {
        "id": "Po1U26ujLs1I"
      },
      "source": [
        "### 1.3.4. Ejecución Axpy."
      ]
    },
    {
      "cell_type": "code",
      "metadata": {
        "id": "3Qt_B3jHuHyR"
      },
      "source": [
        "# --------------------------------------------\n",
        "#@title Parámetros de ejecución { vertical-output: true }\n",
        "\n",
        "Cantidad_N = 50000#@param {type: \"number\"}\n",
        "Alfa       = 1.0#@param {type: \"number\"}\n",
        "Ciclos     = 100#@param {type: \"slider\", min: 10, max: 100}\n",
        "Hilos      = 6#@param {type: \"slider\", min: 1, max: 10}\n",
        "\n",
        "# --------------------------------------------\n",
        "\n",
        "%env OMP_NUM_THREADS=$Hilos\n",
        "!./axpy $Alfa $Cantidad_N $Ciclos"
      ],
      "execution_count": null,
      "outputs": []
    },
    {
      "cell_type": "markdown",
      "metadata": {
        "id": "1aL0jXjFGn9C"
      },
      "source": [
        "---\n",
        "# Medidas de prestaciones en algoritmos paralelos\n",
        "Las técnicas de HPC buscan reducir los tiempos de ejecución, el tiempo como medida, no alcanza. Dos algoritmos pueden ejecutar en el mismo tiempo, pero uno de ellos usa menos procesadores [6,7].\n"
      ]
    },
    {
      "cell_type": "markdown",
      "metadata": {
        "id": "mJxlhR-PHc4M"
      },
      "source": [
        "## SpeedUp\n",
        "Referencia a la ganancia de velocidad que se consigue con un algoritmo paralelo, al resolver el mismo problema con respecto al algoritmo secuencial.\n",
        "\n",
        "<center>$ SpeedUp = \\frac{Tiempo\\_Secuencial}{Tiempo\\_Paralelo} $</center>\n",
        "\n"
      ]
    },
    {
      "cell_type": "markdown",
      "metadata": {
        "id": "rBsWMz-fIEaW"
      },
      "source": [
        "##Eficiencia\n",
        "La eficiencia normaliza el valor del SpeedUp, al dividirlo por la cantidad de procesadores que se utilizaron para alcanzar la ganancia en velocidad. Dando la idea de la porción de tiempo que los procesadores se dedican al trabajo útil.\n",
        "\n",
        "<center>$ Eficiencia = \\frac{SpeedUp}{Nro\\_Procesadores} $</center>\n"
      ]
    },
    {
      "cell_type": "markdown",
      "metadata": {
        "id": "feerSPFJI4UV"
      },
      "source": [
        "## Coste\n",
        "El coste de un algoritmo paralelo representa el tiempo realizado por todo el sistema en la resolución del problema.\n",
        "\n",
        "<center>$ coste = Nro\\_Procesadores \\times Tiempo\\_Algoritmo$</center>\n"
      ]
    },
    {
      "cell_type": "markdown",
      "metadata": {
        "id": "H-B-4e3gJWp2"
      },
      "source": [
        "## Función Overhead\n",
        "Es la diferencia entre el Coste y el tiempo secuencial. Mientras mayor es la función overhead, peor es el comportamiento del algoritmo paralelo.\n",
        "\n",
        "<center>$ Overhead = {Coste}-{Tiempo\\_Secuencial} $</center>\n",
        "\n",
        "---"
      ]
    },
    {
      "cell_type": "markdown",
      "metadata": {
        "id": "B4IHd-IqdvT1"
      },
      "source": [
        "---\n",
        "# Bibliografía\n",
        "\n",
        "[1] MARKDOWN SYNTAX Colab: [PDF](https://github.com/wvaliente/SOA_HPC/blob/main/Documentos/markdown-cheatsheet-online.pdf)\n",
        "\n",
        "[2] Introducción a Python: [Página Colab](https://github.com/wvaliente/SOA_HPC/blob/main/Documentos/Python_Basico.ipynb)\n",
        "\n",
        "[3] Función Axpy de biblioteca BLAS: [Referencia](https://software.intel.com/content/www/us/en/develop/documentation/mkl-developer-reference-c/top/blas-and-sparse-blas-routines/blas-routines/blas-level-1-routines-and-functions/cblas-axpy.html)\n",
        "\n",
        "[4] Biblioteca BLAS: [Referencia](http://www.netlib.org/blas/)\n",
        "\n",
        "[5] Tutorial Point Colab: [PDF](https://github.com/wvaliente/SOA_HPC/blob/main/Documentos/markdown-cheatsheet-online.pdf)\n",
        "\n",
        "[6] F. Almeida, D. Gimenéz, A. Vidal - Introducción a la programación paralela - 2008 - Editorial Parafino.\n",
        "\n",
        "[7] D. Jiménez-González - Introducción a las arquitecturas paralelas. [PDF](http://so-unlam.com.ar/material-clase/HPC/Arquitecturas_de_computadores_avanzadas_(Modulo_1).pdf)\n",
        "\n",
        "[8] Github OMP Parte 1 [Link](https://github.com/MicrosoftDocs/cpp-docs/blob/main/docs/parallel/openmp/reference/openmp-directives.md#atomic)\n",
        "\n",
        "[9] Github OMP Parte 2 [Link](https://github.com/MicrosoftDocs/cpp-docs/blob/main/docs/parallel/openmp/reference/openmp-clauses.md#nowait)\n",
        "\n",
        "[10] Funciones OMP [Link](https://learn.microsoft.com/en-us/cpp/parallel/openmp/reference/openmp-functions?view=msvc-170)\n",
        "\n",
        "[11] Directivas OMP [Link](https://learn.microsoft.com/es-es/cpp/parallel/openmp/reference/openmp-directives?view=msvc-170)"
      ]
    }
  ]
}