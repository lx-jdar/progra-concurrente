{
  "nbformat": 4,
  "nbformat_minor": 0,
  "metadata": {
    "colab": {
      "provenance": [],
      "authorship_tag": "ABX9TyPYK3VyjE62Q8vC4sEqAS84",
      "include_colab_link": true
    },
    "kernelspec": {
      "name": "python3",
      "display_name": "Python 3"
    },
    "language_info": {
      "name": "python"
    }
  },
  "cells": [
    {
      "cell_type": "markdown",
      "metadata": {
        "id": "view-in-github",
        "colab_type": "text"
      },
      "source": [
        "<a href=\"https://colab.research.google.com/github/lx-jdar/progra-concurrente/blob/development/tp3/go/tp3_golang.ipynb\" target=\"_parent\"><img src=\"https://colab.research.google.com/assets/colab-badge.svg\" alt=\"Open In Colab\"/></a>"
      ]
    },
    {
      "cell_type": "markdown",
      "source": [
        "# Trabajo práctico 1: GOLANG"
      ],
      "metadata": {
        "id": "tEawcdk-_TSV"
      }
    },
    {
      "cell_type": "markdown",
      "source": [
        "Instalacion de golang en Colab"
      ],
      "metadata": {
        "id": "O3Ee6mq5_YcJ"
      }
    },
    {
      "cell_type": "code",
      "source": [
        "!add-apt-repository ppa:longsleep/golang-backports -y\n",
        "!apt update\n",
        "!apt install golang-go\n",
        "%env GOPATH=/root/go\n",
        "!go version"
      ],
      "metadata": {
        "id": "QNNcoViE_P5G"
      },
      "execution_count": null,
      "outputs": []
    },
    {
      "cell_type": "markdown",
      "source": [
        "Creación del Archivo GO"
      ],
      "metadata": {
        "id": "uzWXs3vx_cFh"
      }
    },
    {
      "cell_type": "code",
      "execution_count": null,
      "metadata": {
        "id": "nZ5F08b6_ACO"
      },
      "outputs": [],
      "source": [
        "%%writefile tp3-golang.go\n",
        "package main\n",
        "\n",
        "import (\n",
        "\t\"fmt\"\n",
        "\t\"os\"\n",
        "\t\"regexp\"\n",
        "\t\"strings\"\n",
        "\t\"sync\"\n",
        ")\n",
        "\n",
        "const (\n",
        "\tASCII_START     = 64\n",
        "\tCANT_THREADS    = 2\n",
        "\tCHARS_BY_THREAD = 4\n",
        "\tINIT_VALUE      = 0\n",
        "\tWORKER_A        = \"A\"\n",
        "\tWORKER_B        = \"B\"\n",
        ")\n",
        "\n",
        "type CharPackage struct {\n",
        "\tthreadID string\n",
        "\toffset   int\n",
        "\tchars    string\n",
        "}\n",
        "\n",
        "var password []int\n",
        "var mtx sync.Mutex\n",
        "\n",
        "func convertirAEntero(chnl chan CharPackage, wg *sync.WaitGroup) {\n",
        "\tdefer wg.Done()\n",
        "\n",
        "\tdata := <-chnl\n",
        "\tcadena := data.chars\n",
        "\tcharSize := len(cadena)\n",
        "\tcycles := charSize / CHARS_BY_THREAD\n",
        "\tif charSize%CHARS_BY_THREAD > 0 {\n",
        "\t\tcycles++\n",
        "\t}\n",
        "\tfor cycle := 0; cycle < cycles; cycle++ {\n",
        "\t\tstartIdx := cycle * CHARS_BY_THREAD\n",
        "\t\tendIdx := startIdx + CHARS_BY_THREAD\n",
        "\n",
        "\t\tif endIdx > charSize {\n",
        "\t\t\tendIdx = charSize\n",
        "\t\t}\n",
        "\t\tfmt.Printf(\"Worker%s procesando %s\\n\", data.threadID, cadena[startIdx:endIdx])\n",
        "\t\tfor idx := startIdx; idx < endIdx; idx++ {\n",
        "\t\t\tmtx.Lock()\n",
        "\t\t\tpassword[idx+data.offset] = int(data.chars[idx]) - ASCII_START\n",
        "\t\t\tmtx.Unlock()\n",
        "\t\t}\n",
        "\t}\n",
        "}\n",
        "\n",
        "func displayError() {\n",
        "\tfmt.Println(\"Use: go run tp3-golang.go WordToCypher\")\n",
        "\tfmt.Println(\"[WordToCypher] debe ser al menos una letra del Abecedario A-Z\")\n",
        "\tpanic(\"Programa tp3-golang.go mal REALIZADO!\")\n",
        "}\n",
        "\n",
        "func main() {\n",
        "\n",
        "\tif len(os.Args) < 2 {\n",
        "\t\tdisplayError()\n",
        "\t}\n",
        "\tcadena := strings.ToUpper(os.Args[1])\n",
        "\tmatched, _ := regexp.MatchString(`^[A-Z]+$`, cadena)\n",
        "\tif !matched {\n",
        "\t\tdisplayError()\n",
        "\t}\n",
        "\n",
        "\tpassword = make([]int, len(cadena))\n",
        "\tdataT1 := make(chan CharPackage)\n",
        "\tdataT2 := make(chan CharPackage)\n",
        "\n",
        "\tvar wg sync.WaitGroup\n",
        "\n",
        "\t// creo los threads que tratan los caracteres\n",
        "\twg.Add(CANT_THREADS)\n",
        "\tgo convertirAEntero(dataT1, &wg)\n",
        "\tgo convertirAEntero(dataT2, &wg)\n",
        "\n",
        "\tendChars := len(cadena)\n",
        "\tcantChars := endChars / 2\n",
        "\tfmt.Println(\"######## Distribucion de cadenas ########\")\n",
        "\tfmt.Printf(\"Worker%s: %s\\n\", WORKER_A, string(cadena[INIT_VALUE:cantChars]))\n",
        "\tfmt.Printf(\"Worker%s: %s\\n\\n\", WORKER_B, string(cadena[cantChars:endChars]))\n",
        "\tdataT1 <- CharPackage{WORKER_A, INIT_VALUE, string(cadena[INIT_VALUE:cantChars])}\n",
        "\tdataT2 <- CharPackage{WORKER_B, cantChars, string(cadena[cantChars:endChars])}\n",
        "\n",
        "\tclose(dataT1)\n",
        "\tclose(dataT2)\n",
        "\n",
        "\twg.Wait()\n",
        "\tfmt.Println(\"\\nCadena Cifrada: \", cadena)\n",
        "\tfmt.Println(\"Cifrado: \", password)\n",
        "}"
      ]
    },
    {
      "cell_type": "markdown",
      "source": [
        "Compilacion del Archivo GO"
      ],
      "metadata": {
        "id": "23XplGtpAM0L"
      }
    },
    {
      "cell_type": "code",
      "source": [
        "!go build tp3-golang.go"
      ],
      "metadata": {
        "id": "EvgLMot9APtc"
      },
      "execution_count": null,
      "outputs": []
    },
    {
      "cell_type": "markdown",
      "source": [
        "Ejecución del Programa con diferentes ejemplos"
      ],
      "metadata": {
        "id": "EN24aWlOAZv9"
      }
    },
    {
      "cell_type": "code",
      "source": [
        "!./tp3-golang ARBoLito"
      ],
      "metadata": {
        "colab": {
          "base_uri": "https://localhost:8080/"
        },
        "id": "GDoQOtVV5X_c",
        "outputId": "ef97d370-20b5-46fd-b898-dd5d42206e05"
      },
      "execution_count": null,
      "outputs": [
        {
          "output_type": "stream",
          "name": "stdout",
          "text": [
            "######## Distribucion de cadenas ########\n",
            "WorkerA: ARBO\n",
            "WorkerB: LITO\n",
            "\n",
            "WorkerA procesando ARBO\n",
            "WorkerB procesando LITO\n",
            "\n",
            "Cadena Cifrada:  ARBOLITO\n",
            "Cifrado:  [1 18 2 15 12 9 20 15]\n"
          ]
        }
      ]
    },
    {
      "cell_type": "code",
      "source": [
        "!./tp3-golang ARBoLiyOstes"
      ],
      "metadata": {
        "colab": {
          "base_uri": "https://localhost:8080/"
        },
        "id": "iAB7mPEfAXd-",
        "outputId": "34ca3e3f-c025-4a4b-ef2b-79689938dd24"
      },
      "execution_count": null,
      "outputs": [
        {
          "output_type": "stream",
          "name": "stdout",
          "text": [
            "######## Distribucion de cadenas ########\n",
            "WorkerA: ARBOLI\n",
            "WorkerB: YOSTES\n",
            "\n",
            "WorkerA procesando ARBO\n",
            "WorkerA procesando LI\n",
            "WorkerB procesando YOST\n",
            "WorkerB procesando ES\n",
            "\n",
            "Cadena Cifrada:  ARBOLIYOSTES\n",
            "Cifrado:  [1 18 2 15 12 9 25 15 19 20 5 19]\n"
          ]
        }
      ]
    },
    {
      "cell_type": "code",
      "source": [
        "!./tp3-golang ARBoLiTOEMAUSPEREdfdfesrA"
      ],
      "metadata": {
        "colab": {
          "base_uri": "https://localhost:8080/"
        },
        "id": "LkCCmkAs5hsL",
        "outputId": "b71fe845-8684-45af-afdc-c26472d2d995"
      },
      "execution_count": null,
      "outputs": [
        {
          "output_type": "stream",
          "name": "stdout",
          "text": [
            "######## Distribucion de cadenas ########\n",
            "WorkerA: ARBOLITOEMAU\n",
            "WorkerB: SPEREDFDFESRA\n",
            "\n",
            "WorkerA procesando ARBO\n",
            "WorkerA procesando LITO\n",
            "WorkerA procesando EMAU\n",
            "WorkerB procesando SPER\n",
            "WorkerB procesando EDFD\n",
            "WorkerB procesando FESR\n",
            "WorkerB procesando A\n",
            "\n",
            "Cadena Cifrada:  ARBOLITOEMAUSPEREDFDFESRA\n",
            "Cifrado:  [1 18 2 15 12 9 20 15 5 13 1 21 19 16 5 18 5 4 6 4 6 5 19 18 1]\n"
          ]
        }
      ]
    },
    {
      "cell_type": "markdown",
      "source": [
        "# Comentarios\n",
        "\n",
        "> Golang fue desarrollado en Google, con lo cual ah sacado lo mejor de diversos lenguajes tales como C/C++, Java y Python. De a poco se va utilizando en el desarrollo de diversos programas. En cuanto a la concurrencia, está altamente desarrollado para gestionar diversas tareas con distintos mecanismo de comunicaciones. Usa principalmente lo que se conoce como channels que es similar a pipes en C/C++, pero también incorpora semaphore mtx, etc. Su sintaxis puede ser dificil de entender al principio, pero es completamente amigable para el desarrollo de cualquier programa.\n",
        "\n",
        "# Conclusión\n",
        "\n",
        "> Golang requiere de mayor documentación para que sea mejor utilizado y entendido en la comunidad. Pero es muy versatil para poder realizar principalmente en tareas concurrente debido a su sencilla sintaxis e incorporación de diversos lenguajes como eje de programción.\n",
        "\n"
      ],
      "metadata": {
        "id": "MZNSoGbitePy"
      }
    }
  ]
}