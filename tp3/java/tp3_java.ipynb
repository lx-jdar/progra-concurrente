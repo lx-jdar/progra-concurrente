{
  "nbformat": 4,
  "nbformat_minor": 0,
  "metadata": {
    "colab": {
      "provenance": [],
      "authorship_tag": "ABX9TyM1arCXkJ2igjFZ2ACMh9iB",
      "include_colab_link": true
    },
    "kernelspec": {
      "name": "python3",
      "display_name": "Python 3"
    },
    "language_info": {
      "name": "python"
    }
  },
  "cells": [
    {
      "cell_type": "markdown",
      "metadata": {
        "id": "view-in-github",
        "colab_type": "text"
      },
      "source": [
        "<a href=\"https://colab.research.google.com/github/lx-jdar/progra-concurrente/blob/development/tp3/java/tp3_java.ipynb\" target=\"_parent\"><img src=\"https://colab.research.google.com/assets/colab-badge.svg\" alt=\"Open In Colab\"/></a>"
      ]
    },
    {
      "cell_type": "markdown",
      "source": [
        "# Trabajo práctico 1 - Parte 3: Java"
      ],
      "metadata": {
        "id": "GTpp9XZWYbCu"
      }
    },
    {
      "cell_type": "markdown",
      "source": [
        "Creación del Archivo Java"
      ],
      "metadata": {
        "id": "bspFVSMdYj6Z"
      }
    },
    {
      "cell_type": "code",
      "execution_count": 5,
      "metadata": {
        "colab": {
          "base_uri": "https://localhost:8080/"
        },
        "id": "oNUo1QTEXoV6",
        "outputId": "5ed344a1-bae4-4655-e496-04f4ee71b914"
      },
      "outputs": [
        {
          "output_type": "stream",
          "name": "stdout",
          "text": [
            "Writing App.java\n"
          ]
        }
      ],
      "source": [
        "%%writefile App.java\n",
        "import java.util.ArrayList;\n",
        "import java.util.HashMap;\n",
        "import java.util.Map;\n",
        "import java.util.Optional;\n",
        "import java.util.Random;\n",
        "import java.util.concurrent.ArrayBlockingQueue;\n",
        "\n",
        "public class App\n",
        "{\n",
        "\n",
        "  private static final int MIN_VALUE = 0;\n",
        "  private static final int MAX_VALUE = 99;\n",
        "  private static int quantity;\n",
        "\n",
        "  public static class Producer extends Thread\n",
        "  {\n",
        "    private final ArrayBlockingQueue<Optional<Integer>> queue;\n",
        "\n",
        "    public Producer(ArrayBlockingQueue<Optional<Integer>> queue)\n",
        "    {\n",
        "      this.queue = queue;\n",
        "    }\n",
        "\n",
        "    public void run()\n",
        "    {\n",
        "      try\n",
        "      {\n",
        "        for (int i = 0; i < quantity; i++)\n",
        "        {\n",
        "          // Genero un valor random\n",
        "          Random random = new Random();\n",
        "          int item = random.nextInt(MAX_VALUE - MIN_VALUE + 1) + MIN_VALUE;\n",
        "          // Agrego el valor a la cola\n",
        "          queue.put(Optional.ofNullable(item));\n",
        "          Thread.sleep(100);\n",
        "        }\n",
        "        // Agrego null para avisar al consumidor que el productor dejo de producir\n",
        "        queue.put(Optional.ofNullable(null));\n",
        "      }\n",
        "      catch (InterruptedException e)\n",
        "      {\n",
        "        Thread.currentThread().interrupt();\n",
        "      }\n",
        "    }\n",
        "  }\n",
        "\n",
        "  public static class Consumer extends Thread\n",
        "  {\n",
        "    private final ArrayBlockingQueue<Optional<Integer>> queue;\n",
        "    private ArrayList<Integer> values = new ArrayList<>();\n",
        "\n",
        "    public Consumer(ArrayBlockingQueue<Optional<Integer>> queue)\n",
        "    {\n",
        "      this.queue = queue;\n",
        "    }\n",
        "\n",
        "    public void run()\n",
        "    {\n",
        "      try\n",
        "      {\n",
        "        // Tomo valor de la cola\n",
        "        Optional<Integer> value = queue.take();\n",
        "        // El isPresent() me indica que existe el valor y no es null\n",
        "        while (value.isPresent())\n",
        "        {\n",
        "          // Guardo el valor\n",
        "          values.add(value.get());\n",
        "          Thread.sleep(200);\n",
        "          value = queue.take();\n",
        "        }\n",
        "      }\n",
        "      catch (InterruptedException e)\n",
        "      {\n",
        "        Thread.currentThread().interrupt();\n",
        "      }\n",
        "      this.showStadistics();\n",
        "    }\n",
        "\n",
        "    private void showStadistics()\n",
        "    {\n",
        "      int sum = 0;\n",
        "      int min = MAX_VALUE;\n",
        "      int max = MIN_VALUE;\n",
        "\n",
        "      for (int value : values)\n",
        "      {\n",
        "        sum += value;\n",
        "        min = Math.min(min, value);\n",
        "        max = Math.max(max, value);\n",
        "      }\n",
        "\n",
        "      double average = (double) sum / values.size();\n",
        "\n",
        "      System.out.println(\"Sum: \" + sum);\n",
        "      System.out.println(\"Average: \" + average);\n",
        "      System.out.println(\"Min: \" + min);\n",
        "      System.out.println(\"Max: \" + max);\n",
        "      System.out.print(\"Most Frequent Values: \");\n",
        "      getMostFrequentValues().forEach((value) -> System.out.print(value + \" \"));\n",
        "      System.out.println();\n",
        "    }\n",
        "\n",
        "    private ArrayList<Integer> getMostFrequentValues ()\n",
        "    {\n",
        "      Map<Integer, Integer> mapValues = new HashMap<>();\n",
        "\n",
        "        // Genero el map con los valores y la cantidad de veces que aparecen\n",
        "      for (Integer value : values)\n",
        "      {\n",
        "        mapValues.put(value, mapValues.getOrDefault(value, 0) + 1);\n",
        "      }\n",
        "\n",
        "      // Busco cual es la maxima cantidad\n",
        "      int maxCount = 0;\n",
        "      for (int count : mapValues.values())\n",
        "      {\n",
        "        maxCount = Math.max(maxCount, count);\n",
        "      }\n",
        "\n",
        "      // Busco todos los valores con la max cantidad\n",
        "      ArrayList<Integer> mostFrequentNumbers = new ArrayList<>();\n",
        "      for (Map.Entry<Integer, Integer> entry : mapValues.entrySet())\n",
        "      {\n",
        "        if (entry.getValue() == maxCount)\n",
        "        {\n",
        "          mostFrequentNumbers.add(entry.getKey());\n",
        "        }\n",
        "      }\n",
        "\n",
        "      return mostFrequentNumbers;\n",
        "    }\n",
        "  }\n",
        "\n",
        "  public static void main(String[] args) throws Exception\n",
        "  {\n",
        "    try\n",
        "    {\n",
        "      quantity = Integer.parseInt(args[0]);\n",
        "    }\n",
        "    catch (NumberFormatException e)\n",
        "    {\n",
        "      // En caso que el valor pasado por argumento no sea un numero\n",
        "      System.err.println(\"Invalid input. Please provide a valid integer as the first argument.\");\n",
        "      System.exit(-1);\n",
        "    }\n",
        "    catch (ArrayIndexOutOfBoundsException e)\n",
        "    {\n",
        "      // En caso que no se haya pasado ningun argumento\n",
        "      System.err.println(\"No input provided. Please provide an integer as the first argument.\");\n",
        "      System.exit(-1);\n",
        "    }\n",
        "\n",
        "    // Creo el ArrayBlockingQueue\n",
        "    ArrayBlockingQueue<Optional<Integer>> queue = new ArrayBlockingQueue<>(quantity);\n",
        "\n",
        "    System.out.println(\"Loading...\");\n",
        "\n",
        "    // Creo el productor y el consumidor\n",
        "    Thread producerThread = new Thread(new Producer(queue));\n",
        "    Thread consumerThread = new Thread(new Consumer(queue));\n",
        "\n",
        "    producerThread.start();\n",
        "    consumerThread.start();\n",
        "\n",
        "    producerThread.join();\n",
        "    consumerThread.join();\n",
        "  }\n",
        "}\n",
        "\n"
      ]
    },
    {
      "cell_type": "markdown",
      "source": [
        "Compilacion del Archivo java"
      ],
      "metadata": {
        "id": "HyPUfpITYotF"
      }
    },
    {
      "cell_type": "code",
      "source": [
        "!javac App.java"
      ],
      "metadata": {
        "id": "mBa4VPvZYsW4"
      },
      "execution_count": 6,
      "outputs": []
    },
    {
      "cell_type": "markdown",
      "source": [
        "Ejecución de distintos ejemplos del Programa en Consola"
      ],
      "metadata": {
        "id": "t4EWPW5FYw1R"
      }
    },
    {
      "cell_type": "code",
      "source": [
        "!java App"
      ],
      "metadata": {
        "colab": {
          "base_uri": "https://localhost:8080/"
        },
        "id": "dBgLIcXgYzPy",
        "outputId": "f21c7954-142f-439a-dfed-d683649f7ce8"
      },
      "execution_count": 7,
      "outputs": [
        {
          "output_type": "stream",
          "name": "stdout",
          "text": [
            "No input provided. Please provide an integer as the first argument.\n"
          ]
        }
      ]
    },
    {
      "cell_type": "code",
      "source": [
        "!java App 10"
      ],
      "metadata": {
        "colab": {
          "base_uri": "https://localhost:8080/"
        },
        "id": "9h8y7viYZKoB",
        "outputId": "9fb57d95-e243-4241-d49c-acf6b2361f06"
      },
      "execution_count": 8,
      "outputs": [
        {
          "output_type": "stream",
          "name": "stdout",
          "text": [
            "Loading...\n",
            "Sum: 456\n",
            "Average: 45.6\n",
            "Min: 20\n",
            "Max: 90\n",
            "Most Frequent Values: 34 67 20 52 22 71 26 90 44 30 \n"
          ]
        }
      ]
    },
    {
      "cell_type": "code",
      "source": [
        "!java App 15"
      ],
      "metadata": {
        "colab": {
          "base_uri": "https://localhost:8080/"
        },
        "id": "O0Ufe6BJY65q",
        "outputId": "e4e8178b-84df-4cce-f84e-03c92abd0d5f"
      },
      "execution_count": 9,
      "outputs": [
        {
          "output_type": "stream",
          "name": "stdout",
          "text": [
            "Loading...\n",
            "Sum: 952\n",
            "Average: 63.46666666666667\n",
            "Min: 21\n",
            "Max: 98\n",
            "Most Frequent Values: 98 55 46 \n"
          ]
        }
      ]
    },
    {
      "cell_type": "markdown",
      "source": [
        "# Comentarios\n",
        "\n",
        "> El desarrollo en Java para manejo de concurrencia no es facil. Se necesita contar con conocimiento específico de la sintaxis del lenguaje. Tiene una fuerte programación orientada a objetos, lo que lo hace el desarrollo un poco mas tardía, pero con mayor alcance quizás en relación a otros lenguajes. Es fuertemente tipado, lo cual conduce a declarar cada objeto que será utilizado en ambito determinado. Por otra parte tiene mecanimos propias del lenguaje(como ArrayBlockingQueue), acomplados especificamente para la comunicadión entre threads. Los tipos especificos, dan como resultado una mejor organización del código, que luego se buildea en conjunto.\n",
        "\n",
        "\n",
        "\n",
        "# Conclusion\n",
        "\n",
        "> Se puede concluir que Java cuenta con la ayuda de la comunidad para la programación, con lo cual es facil de recolectar información para que se desarrolle un programa. Sin embargo una vez inmerso en el lenguaje, se vuelve facil de adaptar para cualquier tipo de tarea. Quizás no es el lenguaje mas performante para algunas tareas como la concurrencia, pero tiene un amplio manejo de distintas utilidades.\n",
        "\n"
      ],
      "metadata": {
        "id": "vMzCo8_hqCnN"
      }
    }
  ]
}