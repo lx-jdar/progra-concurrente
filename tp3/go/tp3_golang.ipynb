{
  "nbformat": 4,
  "nbformat_minor": 0,
  "metadata": {
    "colab": {
      "provenance": [],
      "authorship_tag": "ABX9TyPZwQ+3/WSHNO4AmXfiOcSH",
      "include_colab_link": true
    },
    "kernelspec": {
      "name": "python3",
      "display_name": "Python 3"
    },
    "language_info": {
      "name": "python"
    }
  },
  "cells": [
    {
      "cell_type": "markdown",
      "metadata": {
        "id": "view-in-github",
        "colab_type": "text"
      },
      "source": [
        "<a href=\"https://colab.research.google.com/github/lx-jdar/progra-concurrente/blob/development/tp3/go/tp3_golang.ipynb\" target=\"_parent\"><img src=\"https://colab.research.google.com/assets/colab-badge.svg\" alt=\"Open In Colab\"/></a>"
      ]
    },
    {
      "cell_type": "markdown",
      "source": [
        "# Trabajo práctico 1: GOLANG"
      ],
      "metadata": {
        "id": "tEawcdk-_TSV"
      }
    },
    {
      "cell_type": "markdown",
      "source": [
        "Instalacion de golang en Colab"
      ],
      "metadata": {
        "id": "O3Ee6mq5_YcJ"
      }
    },
    {
      "cell_type": "code",
      "source": [
        "!add-apt-repository ppa:longsleep/golang-backports -y\n",
        "!apt update\n",
        "!apt install golang-go\n",
        "%env GOPATH=/root/go\n",
        "!go version"
      ],
      "metadata": {
        "id": "QNNcoViE_P5G"
      },
      "execution_count": null,
      "outputs": []
    },
    {
      "cell_type": "markdown",
      "source": [
        "Creación del Archivo GO"
      ],
      "metadata": {
        "id": "uzWXs3vx_cFh"
      }
    },
    {
      "cell_type": "code",
      "execution_count": 15,
      "metadata": {
        "colab": {
          "base_uri": "https://localhost:8080/"
        },
        "id": "nZ5F08b6_ACO",
        "outputId": "0dbab160-978f-4dc2-c09a-844ac67b0e1a"
      },
      "outputs": [
        {
          "output_type": "stream",
          "name": "stdout",
          "text": [
            "Overwriting tp3-golang.go\n"
          ]
        }
      ],
      "source": [
        "%%writefile tp3-golang.go\n",
        "package main\n",
        "\n",
        "import (\n",
        "\t\"fmt\"\n",
        "\t\"os\"\n",
        "\t\"strings\"\n",
        "\t\"sync\"\n",
        ")\n",
        "\n",
        "const (\n",
        "\tLETRA_A      = 65\n",
        "\tCANT_THREADS = 2\n",
        ")\n",
        "\n",
        "var password []int\n",
        "var mtx sync.Mutex\n",
        "\n",
        "func convertirAEntero(cad string, start int, end int, wg *sync.WaitGroup) {\n",
        "\tdefer wg.Done()\n",
        "\tmtx.Lock()\n",
        "\tfor i := start; i < end; i++ {\n",
        "\t\tpassword[i] = int(cad[i]) - LETRA_A + 1\n",
        "\t\t// fmt.Printf(\"Char at %d Index Pos = %c int %d \\n\", i, cad[i], int(cad[i]))\n",
        "\t}\n",
        "\tmtx.Unlock()\n",
        "}\n",
        "\n",
        "func main() {\n",
        "  if len(os.Args) < 1 {\n",
        "    fmt.Println(\"Please, enter the parameter to convert!\")\n",
        "  }\n",
        "\tcadena := os.Args[1]\n",
        "\tpassword = make([]int, len(cadena))\n",
        "\n",
        "\tvar wg sync.WaitGroup\n",
        "\twg.Add(CANT_THREADS)\n",
        "\tfmt.Println(\"Analyzing Parte 1!\")\n",
        "\tgo convertirAEntero(strings.ToUpper(cadena), 0, 4, &wg)\n",
        "\tfmt.Println(\"Analyzing Parte 2!\")\n",
        "\tgo convertirAEntero(strings.ToUpper(cadena), 4, len(cadena), &wg)\n",
        "\twg.Wait()\n",
        "\n",
        "\tfmt.Println(\"\\nHello World!\")\n",
        "\tfmt.Println(password)\n",
        "}\n"
      ]
    },
    {
      "cell_type": "markdown",
      "source": [
        "Compilacion del Archivo GO"
      ],
      "metadata": {
        "id": "23XplGtpAM0L"
      }
    },
    {
      "cell_type": "code",
      "source": [
        "!go build tp3-golang.go"
      ],
      "metadata": {
        "id": "EvgLMot9APtc"
      },
      "execution_count": 16,
      "outputs": []
    },
    {
      "cell_type": "markdown",
      "source": [
        "Ejecución del Programa"
      ],
      "metadata": {
        "id": "EN24aWlOAZv9"
      }
    },
    {
      "cell_type": "code",
      "source": [
        "!./tp3-golang ARBoLiyOs"
      ],
      "metadata": {
        "colab": {
          "base_uri": "https://localhost:8080/"
        },
        "id": "iAB7mPEfAXd-",
        "outputId": "edc57375-c2e0-4b2d-d7c9-79f50421449e"
      },
      "execution_count": 19,
      "outputs": [
        {
          "output_type": "stream",
          "name": "stdout",
          "text": [
            "Analyzing Parte 1!\n",
            "Analyzing Parte 2!\n",
            "\n",
            "Hello World!\n",
            "[1 18 2 15 12 9 25 15 19]\n"
          ]
        }
      ]
    }
  ]
}