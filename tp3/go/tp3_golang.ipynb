{
  "nbformat": 4,
  "nbformat_minor": 0,
  "metadata": {
    "colab": {
      "provenance": [],
      "authorship_tag": "ABX9TyNqN//fVkeNQz5kL1AS7rbM",
      "include_colab_link": true
    },
    "kernelspec": {
      "name": "python3",
      "display_name": "Python 3"
    },
    "language_info": {
      "name": "python"
    }
  },
  "cells": [
    {
      "cell_type": "markdown",
      "metadata": {
        "id": "view-in-github",
        "colab_type": "text"
      },
      "source": [
        "<a href=\"https://colab.research.google.com/github/lx-jdar/progra-concurrente/blob/development/tp3/go/tp3_golang.ipynb\" target=\"_parent\"><img src=\"https://colab.research.google.com/assets/colab-badge.svg\" alt=\"Open In Colab\"/></a>"
      ]
    },
    {
      "cell_type": "markdown",
      "source": [
        "# Trabajo práctico 1: GOLANG"
      ],
      "metadata": {
        "id": "tEawcdk-_TSV"
      }
    },
    {
      "cell_type": "markdown",
      "source": [
        "Instalacion de golang en Colab"
      ],
      "metadata": {
        "id": "O3Ee6mq5_YcJ"
      }
    },
    {
      "cell_type": "code",
      "source": [
        "!add-apt-repository ppa:longsleep/golang-backports -y\n",
        "!apt update\n",
        "!apt install golang-go\n",
        "%env GOPATH=/root/go\n",
        "!go version"
      ],
      "metadata": {
        "id": "QNNcoViE_P5G"
      },
      "execution_count": null,
      "outputs": []
    },
    {
      "cell_type": "markdown",
      "source": [
        "Creación del Archivo GO"
      ],
      "metadata": {
        "id": "uzWXs3vx_cFh"
      }
    },
    {
      "cell_type": "code",
      "execution_count": null,
      "metadata": {
        "id": "nZ5F08b6_ACO"
      },
      "outputs": [],
      "source": [
        "%%writefile tp3-golang.go\n",
        "package main\n",
        "\n",
        "import (\n",
        "\t\"fmt\"\n",
        "\t\"os\"\n",
        "\t\"strings\"\n",
        "\t\"sync\"\n",
        ")\n",
        "\n",
        "const (\n",
        "\tASCII_START     = 64\n",
        "\tCANT_THREADS    = 2\n",
        "\tCHARS_BY_THREAD = 4\n",
        "\tINIT_VALUE      = 0\n",
        ")\n",
        "\n",
        "type CharPackage struct {\n",
        "\toffset int\n",
        "\tchars  string\n",
        "}\n",
        "\n",
        "var password []int\n",
        "var mtx sync.Mutex\n",
        "\n",
        "func convertirAEntero(chnl chan CharPackage, wg *sync.WaitGroup) {\n",
        "\tdefer wg.Done()\n",
        "\n",
        "\tfor data := range chnl {\n",
        "\t\tfor idx := INIT_VALUE; idx < len(data.chars); idx++ {\n",
        "\t\t\tmtx.Lock()\n",
        "\t\t\tpassword[idx+data.offset] = int(data.chars[idx]) - ASCII_START\n",
        "\t\t\tmtx.Unlock()\n",
        "\t\t}\n",
        "\t}\n",
        "\n",
        "}\n",
        "\n",
        "func main() {\n",
        "\n",
        "\tcadena := strings.ToUpper(os.Args[1])\n",
        "\tpassword = make([]int, len(cadena))\n",
        "\tdataT1 := make(chan CharPackage)\n",
        "\tdataT2 := make(chan CharPackage)\n",
        "\n",
        "\tvar wg sync.WaitGroup\n",
        "\n",
        "\t// creo los threads que tratan los caracteres\n",
        "\twg.Add(CANT_THREADS)\n",
        "\tgo convertirAEntero(dataT1, &wg)\n",
        "\tgo convertirAEntero(dataT2, &wg)\n",
        "\n",
        "\tcycles := len(cadena) / CHARS_BY_THREAD\n",
        "\tif len(cadena)%CHARS_BY_THREAD != INIT_VALUE {\n",
        "\t\tcycles++\n",
        "\t}\n",
        "\tstart, offset := INIT_VALUE, CHARS_BY_THREAD\n",
        "\tfor i := INIT_VALUE; i < cycles; i++ {\n",
        "\t\t// la logica es delegar de a 4 caracteres a los threads\n",
        "\t\tif i%2 == INIT_VALUE {\n",
        "\t\t\tdataT1 <- CharPackage{start, cadena[start:offset]}\n",
        "\t\t} else {\n",
        "\t\t\tdataT2 <- CharPackage{start, cadena[start:offset]}\n",
        "\t\t}\n",
        "\t\t// determinos los sig. 4 chars\n",
        "\t\tstart += CHARS_BY_THREAD\n",
        "\t\tif offset+CHARS_BY_THREAD < len(cadena) {\n",
        "\t\t\toffset += CHARS_BY_THREAD\n",
        "\t\t} else {\n",
        "\t\t\toffset = len(cadena)\n",
        "\t\t}\n",
        "\t}\n",
        "\n",
        "\tclose(dataT1)\n",
        "\tclose(dataT2)\n",
        "\n",
        "\twg.Wait()\n",
        "\tfmt.Println(\"Cadena Cifrada: \", cadena)\n",
        "\tfmt.Println(\"Cifrado: \", password)\n",
        "}\n",
        "\n"
      ]
    },
    {
      "cell_type": "markdown",
      "source": [
        "Compilacion del Archivo GO"
      ],
      "metadata": {
        "id": "23XplGtpAM0L"
      }
    },
    {
      "cell_type": "code",
      "source": [
        "!go build tp3-golang.go"
      ],
      "metadata": {
        "id": "EvgLMot9APtc"
      },
      "execution_count": 3,
      "outputs": []
    },
    {
      "cell_type": "markdown",
      "source": [
        "Ejecución del Programa con diferentes ejemplos"
      ],
      "metadata": {
        "id": "EN24aWlOAZv9"
      }
    },
    {
      "cell_type": "code",
      "source": [
        "!./tp3-golang ARBoLito"
      ],
      "metadata": {
        "colab": {
          "base_uri": "https://localhost:8080/"
        },
        "id": "GDoQOtVV5X_c",
        "outputId": "89ad90f3-49bb-4be6-c3ec-4417bb952b7c"
      },
      "execution_count": 5,
      "outputs": [
        {
          "output_type": "stream",
          "name": "stdout",
          "text": [
            "Cadena Cifrada:  ARBOLITO\n",
            "Cifrado:  [1 18 2 15 12 9 20 15]\n"
          ]
        }
      ]
    },
    {
      "cell_type": "code",
      "source": [
        "!./tp3-golang ARBoLiyOstes"
      ],
      "metadata": {
        "colab": {
          "base_uri": "https://localhost:8080/"
        },
        "id": "iAB7mPEfAXd-",
        "outputId": "3ee1ef06-b6e6-4915-c2f8-8082df9cc7eb"
      },
      "execution_count": 4,
      "outputs": [
        {
          "output_type": "stream",
          "name": "stdout",
          "text": [
            "Cadena Cifrada:  ARBOLIYOSTES\n",
            "Cifrado:  [1 18 2 15 12 9 25 15 19 20 5 19]\n"
          ]
        }
      ]
    },
    {
      "cell_type": "code",
      "source": [
        "!./tp3-golang ARBoLiTOEMAUSPEREdfds"
      ],
      "metadata": {
        "colab": {
          "base_uri": "https://localhost:8080/"
        },
        "id": "LkCCmkAs5hsL",
        "outputId": "3e45fab8-0d9a-4a2e-a7a9-2b41a54a6ae5"
      },
      "execution_count": 6,
      "outputs": [
        {
          "output_type": "stream",
          "name": "stdout",
          "text": [
            "Cadena Cifrada:  ARBOLITOEMAUSPEREDFDS\n",
            "Cifrado:  [1 18 2 15 12 9 20 15 5 13 1 21 19 16 5 18 5 4 6 4 19]\n"
          ]
        }
      ]
    }
  ]
}