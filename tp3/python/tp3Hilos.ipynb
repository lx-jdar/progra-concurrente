{
  "nbformat": 4,
  "nbformat_minor": 0,
  "metadata": {
    "colab": {
      "provenance": []
    },
    "kernelspec": {
      "name": "python3",
      "display_name": "Python 3"
    },
    "language_info": {
      "name": "python"
    }
  },
  "cells": [
    {
      "cell_type": "markdown",
      "source": [
        "## Trabajo práctico 3: Python\n",
        "Ejecuto el código y escribo tantas palabras como se desee, cuando se quiera finalizar la ejecución, escribo la palabra: close\n",
        "\n",
        "Nota: Si se envía la palabra “close” en medio de una oración, se procesarán  todas las palabras que se encuentran antes que “close”, una vez que se procese esta palabra, se finaliza la ejecución\n"
      ],
      "metadata": {
        "id": "ewWn0TvXFfRR"
      }
    },
    {
      "cell_type": "code",
      "execution_count": 1,
      "metadata": {
        "colab": {
          "base_uri": "https://localhost:8080/"
        },
        "id": "By-bYSngMzHF",
        "outputId": "31d09178-b6cf-459d-8a56-4e0c01396a10"
      },
      "outputs": [
        {
          "output_type": "stream",
          "name": "stdout",
          "text": [
            "Ingrese el texto a procesar: hola como estas este es un texto de prueba para ver la asignacion de palabras en un texto si escribo que tengo 25 años deberia calcular\n",
            "Ingrese el texto a procesar: que naci en 1998\n",
            "Ingrese el texto a procesar: close\n",
            "Cantidad de caracteres totales:  123\n",
            "Cantidad de letras:  117\n",
            "Cantidad de dígitos:  6\n",
            "La palabra de mayor longitud:  asignacion\n",
            "La palabra de menor longitud:  es\n"
          ]
        }
      ],
      "source": [
        "import multiprocessing\n",
        "\n",
        "def father():\n",
        "    send, recive = multiprocessing.Pipe()\n",
        "\n",
        "    process = multiprocessing.Process(target=child, args=(send, recive))\n",
        "    process.start()\n",
        "\n",
        "    end_process = False\n",
        "    while end_process == False:\n",
        "        text = input(\"Ingrese el texto a procesar: \").split()\n",
        "        for word in text:\n",
        "            if word != \"close\":\n",
        "                send.send(word)\n",
        "            else:\n",
        "                end_process = True;\n",
        "                break;\n",
        "\n",
        "    send.send(\"close\")\n",
        "    process.join()\n",
        "    if recive.poll():\n",
        "        stats = recive.recv()\n",
        "        print(\"Cantidad de caracteres totales: \", stats[\"total_length\"])\n",
        "        print(\"Cantidad de letras: \", stats[\"total_letters\"])\n",
        "        print(\"Cantidad de dígitos: \", stats[\"total_digits\"])\n",
        "        print(\"La palabra de mayor longitud: \", stats[\"longest_word\"])\n",
        "        print(\"La palabra de menor longitud: \", stats[\"shortest_word\"])\n",
        "\n",
        "    send.close()\n",
        "    recive.close()\n",
        "\n",
        "def child(send_pipe, recieve_pipe):\n",
        "    text = recieve_pipe.recv()\n",
        "\n",
        "    stats = {\n",
        "        \"total_letters\": 0,\n",
        "        \"total_digits\": 0,\n",
        "        \"total_length\": 0,\n",
        "        \"longest_word\":  text if text != \"close\" else \"\",\n",
        "        \"shortest_word\": text if text != \"close\" else \"\"\n",
        "    }\n",
        "\n",
        "    while text != \"close\":\n",
        "        word_length = len(text)\n",
        "\n",
        "        if word_length > len(stats[\"longest_word\"]):\n",
        "            stats[\"longest_word\"] = text\n",
        "        elif word_length < len(stats[\"shortest_word\"]):\n",
        "            stats[\"shortest_word\"] = text\n",
        "\n",
        "        for char in text:\n",
        "            if char.isalpha():\n",
        "                stats[\"total_letters\"] += 1\n",
        "            elif char.isdigit():\n",
        "                stats[\"total_digits\"] += 1\n",
        "\n",
        "        stats[\"total_length\"] += word_length\n",
        "        text = recieve_pipe.recv()\n",
        "\n",
        "    send_pipe.send(stats)\n",
        "\n",
        "if __name__ == '__main__':\n",
        "    father()\n"
      ]
    },
    {
      "cell_type": "markdown",
      "source": [
        "Conclusión: Para la utilización del pipe no hubo ningún inconveniente, lo que mas llevo tiempo fue determinar que enviar por el pipe, en este caso fue un diccionario el cual actualizo en el proceso hijo y lo envío al proceso padre una vez que se quiera finalizar la ejecución, para que este pueda mostrarlo por pantalla."
      ],
      "metadata": {
        "id": "0wnULxidG-iR"
      }
    }
  ]
}