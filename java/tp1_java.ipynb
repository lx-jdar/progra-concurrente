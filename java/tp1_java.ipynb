{
  "nbformat": 4,
  "nbformat_minor": 0,
  "metadata": {
    "colab": {
      "provenance": [],
      "authorship_tag": "ABX9TyOP6dJF4GzozlHd0rEpCM1X",
      "include_colab_link": true
    },
    "kernelspec": {
      "name": "python3",
      "display_name": "Python 3"
    },
    "language_info": {
      "name": "python"
    }
  },
  "cells": [
    {
      "cell_type": "markdown",
      "metadata": {
        "id": "view-in-github",
        "colab_type": "text"
      },
      "source": [
        "<a href=\"https://colab.research.google.com/github/lx-jdar/progra-concurrente/blob/development/java/tp1_java.ipynb\" target=\"_parent\"><img src=\"https://colab.research.google.com/assets/colab-badge.svg\" alt=\"Open In Colab\"/></a>"
      ]
    },
    {
      "cell_type": "markdown",
      "source": [
        "Creación del Archivo Java"
      ],
      "metadata": {
        "id": "vIHvspXOlzY9"
      }
    },
    {
      "cell_type": "code",
      "execution_count": 12,
      "metadata": {
        "colab": {
          "base_uri": "https://localhost:8080/"
        },
        "id": "LcatmQP-ldn_",
        "outputId": "36821a4a-54e3-43c8-a1ed-06178f10d218"
      },
      "outputs": [
        {
          "output_type": "stream",
          "name": "stdout",
          "text": [
            "Overwriting App.java\n"
          ]
        }
      ],
      "source": [
        "%%writefile App.java\n",
        "import java.io.IOException;\n",
        "import java.util.ArrayList;\n",
        "import java.util.Arrays;\n",
        "import java.util.List;\n",
        "\n",
        "public class App {\n",
        "\n",
        "    public static List<String> getArguments(String[] args) {\n",
        "\n",
        "        if (args.length == 0) {\n",
        "            return Arrays.asList(\"B\", \"C\");\n",
        "        } else {\n",
        "            switch (args[0]) {\n",
        "                case \"B\":\n",
        "                    return Arrays.asList(\"D\", \"E\");\n",
        "                case \"C\":\n",
        "                    return Arrays.asList(\"F\");\n",
        "                case \"E\":\n",
        "                    return Arrays.asList(\"G\", \"H\");\n",
        "                default:\n",
        "                    return Arrays.asList();\n",
        "            }\n",
        "        }\n",
        "    }\n",
        "\n",
        "    public static void main(String[] args) throws Exception {\n",
        "\n",
        "        List<String> arguments = getArguments(args);\n",
        "        List<Process> children = new ArrayList<Process>();\n",
        "\n",
        "        ProcessHandle current = ProcessHandle.current();\n",
        "        long pid = current.pid();\n",
        "        long ppid = current.parent().get().pid();\n",
        "        String process = args.length == 0 ? \"A\" : args[0];\n",
        "        System.out.println(process + \"-> PID: \" + pid + \" PPID: \" + ppid);\n",
        "\n",
        "        try {\n",
        "            for (String arg : arguments) {\n",
        "                ProcessBuilder pb = new ProcessBuilder(\"java\", \"App\", arg);\n",
        "                children.add(pb.inheritIO().start());\n",
        "            }\n",
        "\n",
        "            for (Process child : children) {\n",
        "                child.waitFor();\n",
        "            }\n",
        "\n",
        "            if (process.equals(\"A\")) {\n",
        "                Thread.sleep(10000);\n",
        "                //System.out.println(\"Waiting\");\n",
        "            }\n",
        "\n",
        "        } catch (IOException e) {\n",
        "            e.printStackTrace();\n",
        "        } catch (Exception expn) {\n",
        "            // catching the exception\n",
        "            expn.printStackTrace();\n",
        "        }\n",
        "    }\n",
        "}\n"
      ]
    },
    {
      "cell_type": "markdown",
      "source": [
        "Compilacion del Archivo java"
      ],
      "metadata": {
        "id": "360X3ZTOmKUW"
      }
    },
    {
      "cell_type": "code",
      "source": [
        "!javac App.java"
      ],
      "metadata": {
        "id": "9dbJpMgkmJ50"
      },
      "execution_count": 24,
      "outputs": []
    },
    {
      "cell_type": "markdown",
      "source": [
        "Ejecución del Programa en Consola"
      ],
      "metadata": {
        "id": "8KfpaxkVmyEE"
      }
    },
    {
      "cell_type": "code",
      "source": [
        "!java App"
      ],
      "metadata": {
        "colab": {
          "base_uri": "https://localhost:8080/"
        },
        "id": "YXQcSb4Tm5Dq",
        "outputId": "7671761d-c130-4c6a-85bc-eae054151c3a"
      },
      "execution_count": 25,
      "outputs": [
        {
          "output_type": "stream",
          "name": "stdout",
          "text": [
            "A-> PID: 8884 PPID: 748\n",
            "B-> PID: 8901 PPID: 8884\n",
            "C-> PID: 8903 PPID: 8884\n",
            "E-> PID: 8946 PPID: 8901\n",
            "D-> PID: 8941 PPID: 8901\n",
            "F-> PID: 8949 PPID: 8903\n",
            "H-> PID: 9001 PPID: 8946\n",
            "G-> PID: 8995 PPID: 8946\n"
          ]
        }
      ]
    },
    {
      "cell_type": "markdown",
      "source": [
        "Ejecución del Proceso y creación de children"
      ],
      "metadata": {
        "id": "kBq8-r4CmZ7R"
      }
    },
    {
      "cell_type": "code",
      "source": [
        "!nohup java App 1>salidaJava 2>/dev/null &"
      ],
      "metadata": {
        "id": "L00JsOhnmfUO"
      },
      "execution_count": 26,
      "outputs": []
    },
    {
      "cell_type": "markdown",
      "source": [
        "Visualización del Estado de los procesos"
      ],
      "metadata": {
        "id": "vr0wYu-kmqd3"
      }
    },
    {
      "cell_type": "code",
      "source": [
        "!ps -axf"
      ],
      "metadata": {
        "id": "Ik7LhgSzmpst"
      },
      "execution_count": null,
      "outputs": []
    },
    {
      "cell_type": "markdown",
      "source": [
        "Visualizacion de log en Archivo del Programa Java"
      ],
      "metadata": {
        "id": "o-3wyp4ytD24"
      }
    },
    {
      "cell_type": "code",
      "source": [
        "!cat salidaJava"
      ],
      "metadata": {
        "colab": {
          "base_uri": "https://localhost:8080/"
        },
        "id": "TzU43ekttILZ",
        "outputId": "ce7ade25-2807-434c-d4a6-ca2309772b72"
      },
      "execution_count": 28,
      "outputs": [
        {
          "output_type": "stream",
          "name": "stdout",
          "text": [
            "A-> PID: 9068 PPID: 1\n",
            "C-> PID: 9087 PPID: 9068\n",
            "B-> PID: 9085 PPID: 9068\n",
            "E-> PID: 9135 PPID: 9085\n",
            "F-> PID: 9121 PPID: 9087\n",
            "D-> PID: 9128 PPID: 9085\n",
            "H-> PID: 9182 PPID: 9135\n",
            "G-> PID: 9179 PPID: 9135\n"
          ]
        }
      ]
    }
  ]
}