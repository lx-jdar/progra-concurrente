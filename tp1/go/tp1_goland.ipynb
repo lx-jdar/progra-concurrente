{
  "nbformat": 4,
  "nbformat_minor": 0,
  "metadata": {
    "colab": {
      "provenance": [],
      "authorship_tag": "ABX9TyM/yxxy+m1T3ErozUOsxmTM",
      "include_colab_link": true
    },
    "kernelspec": {
      "name": "python3",
      "display_name": "Python 3"
    },
    "language_info": {
      "name": "python"
    }
  },
  "cells": [
    {
      "cell_type": "markdown",
      "metadata": {
        "id": "view-in-github",
        "colab_type": "text"
      },
      "source": [
        "<a href=\"https://colab.research.google.com/github/lx-jdar/progra-concurrente/blob/development/tp1/go/tp1_goland.ipynb\" target=\"_parent\"><img src=\"https://colab.research.google.com/assets/colab-badge.svg\" alt=\"Open In Colab\"/></a>"
      ]
    },
    {
      "cell_type": "markdown",
      "source": [
        "# Trabajo Práctico 1 - Parte 1: GOLANG\n",
        "\n",
        "\n",
        "\n"
      ],
      "metadata": {
        "id": "Kci9_ywdrLar"
      }
    },
    {
      "cell_type": "markdown",
      "source": [
        "Instalacion de golang en Colab"
      ],
      "metadata": {
        "id": "Kfs1LCtgrQne"
      }
    },
    {
      "cell_type": "code",
      "execution_count": null,
      "metadata": {
        "id": "r5EJsXbvXi2S"
      },
      "outputs": [],
      "source": [
        "!add-apt-repository ppa:longsleep/golang-backports -y\n",
        "!apt update\n",
        "!apt install golang-go\n",
        "%env GOPATH=/root/go\n",
        "!go version"
      ]
    },
    {
      "cell_type": "markdown",
      "source": [
        "Creación del Archivo GO"
      ],
      "metadata": {
        "id": "Cd5rwiL3rXIl"
      }
    },
    {
      "cell_type": "code",
      "source": [
        "%%writefile tp1-golang.go\n",
        "package main\n",
        "\n",
        "import (\n",
        "\t\"fmt\"\n",
        "\t\"os\"\n",
        "\t\"syscall\"\n",
        "\t\"time\"\n",
        ")\n",
        "\n",
        "var nodes map[string]string = map[string]string{\n",
        "\t\"A\": \"CB\", \"B\": \"ED\", \"C\": \"F\",\n",
        "\t\"D\": \"\", \"E\": \"HG\", \"F\": \"\"}\n",
        "\n",
        "func fork() (uintptr, error) {\n",
        "\t// fork off the parent process\n",
        "\tret, ret2, errno := syscall.RawSyscall(syscall.SYS_FORK, 0, 0, 0)\n",
        "\t// failure while forking\n",
        "\tif errno != 0 {\n",
        "\t\treturn uintptr(errno), fmt.Errorf(\"fork failed with error %s\", errno.Error())\n",
        "\t}\n",
        "\n",
        "\t// failure\n",
        "\tif ret2 < 0 {\n",
        "\t\treturn ret2, fmt.Errorf(\"fork failed with pid %d\", ret2)\n",
        "\t}\n",
        "\n",
        "\treturn ret, nil\n",
        "}\n",
        "\n",
        "func createProcesses(letter string) {\n",
        "\tif letter != \"A\" {\n",
        "\t\tfmt.Printf(\"PID_Child: %5d Padre: %5d Node: %s\\n\", os.Getpid(), os.Getppid(), letter)\n",
        "\t}\n",
        "\tchildren := make([]uintptr, len(nodes[letter]))\n",
        "\tvar node string\n",
        "\tfor i := 0; i < len(nodes[letter]); i++ {\n",
        "\t\tnode = string(nodes[letter][i])\n",
        "\t\tchildren[i], _ = fork()\n",
        "\t\tif children[i] == 0 {\n",
        "\t\t\tcreateProcesses(node)\n",
        "\t\t\treturn\n",
        "\t\t}\n",
        "\t}\n",
        "\tfor child := range children {\n",
        "\t\tsyscall.Wait4(int(child), nil, 0, nil)\n",
        "\t}\n",
        "\ttime.Sleep(10 * time.Second)\n",
        "\treturn\n",
        "}\n",
        "\n",
        "func main() {\n",
        "\tfmt.Printf(\"PPID_INIT: %5d Padre: %5d Node: A\\n\", os.Getpid(), os.Getppid())\n",
        "\tcreateProcesses(\"A\")\n",
        "}"
      ],
      "metadata": {
        "colab": {
          "base_uri": "https://localhost:8080/"
        },
        "id": "dMzxd9_WYHLt",
        "outputId": "84c21195-6f8b-4710-a29d-280356b152b3"
      },
      "execution_count": 2,
      "outputs": [
        {
          "output_type": "stream",
          "name": "stdout",
          "text": [
            "Writing tp1-golang.go\n"
          ]
        }
      ]
    },
    {
      "cell_type": "markdown",
      "source": [
        "Compilacion del Archivo GO"
      ],
      "metadata": {
        "id": "Yjq4DPjSrfyn"
      }
    },
    {
      "cell_type": "code",
      "source": [
        "!go build -o tp1Golang tp1-golang.go"
      ],
      "metadata": {
        "id": "82yU525FYYAZ"
      },
      "execution_count": 3,
      "outputs": []
    },
    {
      "cell_type": "markdown",
      "source": [
        "Ejecución del Programa"
      ],
      "metadata": {
        "id": "6x_x0ru5riTB"
      }
    },
    {
      "cell_type": "code",
      "source": [
        "!./tp1Golang"
      ],
      "metadata": {
        "id": "53af478lItGH"
      },
      "execution_count": null,
      "outputs": []
    },
    {
      "cell_type": "markdown",
      "source": [
        "Ejecucion del Programa en background logueando a Archivo"
      ],
      "metadata": {
        "id": "kk2UMyDJrqIu"
      }
    },
    {
      "cell_type": "code",
      "source": [
        "!nohup ./tp1Golang 1>salidaGO 2>/dev/null &"
      ],
      "metadata": {
        "id": "dU_6o6kArwz4"
      },
      "execution_count": 10,
      "outputs": []
    },
    {
      "cell_type": "markdown",
      "source": [
        "Visualizacion de los Procesos"
      ],
      "metadata": {
        "id": "Og44ig5Xr6uI"
      }
    },
    {
      "cell_type": "code",
      "source": [
        "!ps -axf | grep tp1Golang"
      ],
      "metadata": {
        "colab": {
          "base_uri": "https://localhost:8080/"
        },
        "id": "tubfZ7-ur46N",
        "outputId": "b1126d97-3bca-42fd-83a6-24e566597885"
      },
      "execution_count": 11,
      "outputs": [
        {
          "output_type": "stream",
          "name": "stdout",
          "text": [
            "   3447 ?        S      0:00  |       \\_ /bin/bash -c ps -axf | grep tp1Golang\n",
            "   3449 ?        S      0:00  |           \\_ grep tp1Golang\n",
            "   3420 ?        Sl     0:00 ./tp1Golang\n",
            "   3424 ?        S      0:00  \\_ ./tp1Golang\n",
            "   3426 ?        S      0:00  |   \\_ ./tp1Golang\n",
            "   3425 ?        S      0:00  \\_ ./tp1Golang\n",
            "   3427 ?        S      0:00      \\_ ./tp1Golang\n",
            "   3429 ?        S      0:00      |   \\_ ./tp1Golang\n",
            "   3430 ?        S      0:00      |   \\_ ./tp1Golang\n",
            "   3428 ?        S      0:00      \\_ ./tp1Golang\n"
          ]
        }
      ]
    },
    {
      "cell_type": "markdown",
      "source": [
        "Visualizacion de log del Programa GO a un Archivo"
      ],
      "metadata": {
        "id": "SquzJq9fsJfG"
      }
    },
    {
      "cell_type": "code",
      "source": [
        "!cat salidaGO && echo"
      ],
      "metadata": {
        "colab": {
          "base_uri": "https://localhost:8080/"
        },
        "id": "xujTCFS7sUAj",
        "outputId": "de3e13dd-ce92-4d8d-a43a-1872f07b20d8"
      },
      "execution_count": 12,
      "outputs": [
        {
          "output_type": "stream",
          "name": "stdout",
          "text": [
            "PPID_INIT:  3420 Padre:     1 Node: A\n",
            "PID_Child:  3424 Padre:  3420 Node: C\n",
            "PID_Child:  3425 Padre:  3420 Node: B\n",
            "PID_Child:  3426 Padre:  3424 Node: F\n",
            "PID_Child:  3427 Padre:  3425 Node: E\n",
            "PID_Child:  3428 Padre:  3425 Node: D\n",
            "PID_Child:  3429 Padre:  3427 Node: H\n",
            "PID_Child:  3430 Padre:  3427 Node: G\n",
            "\n"
          ]
        }
      ]
    },
    {
      "cell_type": "markdown",
      "source": [
        "# Comentarios\n",
        "> En el caso de Golang, en primera en instancia cabe decir que no hay mucha documentacion respecto a como manejar procesos pesados, la concurrencia en Go en cuanto a procesos parece buena, pero se debe realizar muchas pruebas hasta entender como funciona el manejo de procesos. Hubo que buscar información, interiorizarse en la instalación y la sintaxis del lenguaje apropaido de declaración de variables, etc. Luego de una primera aproximación, se vuelve mas fácil interactuar entre procesos.\n",
        "GO tiene varias formas de hacer forks, que dan una mayor amplitud de organización en la logica.\n",
        "\n",
        "# Conclusión\n",
        "> Go es una lenguaje que se va adentrando cada vez mas en el ambito de desarrollo ya que implementa nuevas formas de definiciones. Ademas incorpora alguna de las mejores practicas provenientes de otros lenguajes, entre ellos c/c++, python y java como así otras nuevas. Hace uso de un lenguaje mas simplificado, con lo que una vez en el tema, su escalamiento puede ser mayor en comparación a otros lenguajes. Puede ser interpretado y compilado. Este último resulta en una alta performance."
      ],
      "metadata": {
        "id": "AZi-0hCKDLin"
      }
    }
  ]
}