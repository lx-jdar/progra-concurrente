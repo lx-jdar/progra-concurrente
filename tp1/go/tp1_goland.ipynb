{
  "nbformat": 4,
  "nbformat_minor": 0,
  "metadata": {
    "colab": {
      "provenance": [],
      "authorship_tag": "ABX9TyN0UrJkwylQWg7QRaCmRlK8",
      "include_colab_link": true
    },
    "kernelspec": {
      "name": "python3",
      "display_name": "Python 3"
    },
    "language_info": {
      "name": "python"
    }
  },
  "cells": [
    {
      "cell_type": "markdown",
      "metadata": {
        "id": "view-in-github",
        "colab_type": "text"
      },
      "source": [
        "<a href=\"https://colab.research.google.com/github/lx-jdar/progra-concurrente/blob/development/tp1/go/tp1_goland.ipynb\" target=\"_parent\"><img src=\"https://colab.research.google.com/assets/colab-badge.svg\" alt=\"Open In Colab\"/></a>"
      ]
    },
    {
      "cell_type": "markdown",
      "source": [
        "# Trabajo práctico 1: GOLANG"
      ],
      "metadata": {
        "id": "Kci9_ywdrLar"
      }
    },
    {
      "cell_type": "markdown",
      "source": [
        "Instalacion de golang en Colab"
      ],
      "metadata": {
        "id": "Kfs1LCtgrQne"
      }
    },
    {
      "cell_type": "code",
      "execution_count": null,
      "metadata": {
        "id": "r5EJsXbvXi2S"
      },
      "outputs": [],
      "source": [
        "!add-apt-repository ppa:longsleep/golang-backports -y\n",
        "!apt update\n",
        "!apt install golang-go\n",
        "%env GOPATH=/root/go\n",
        "!go version"
      ]
    },
    {
      "cell_type": "markdown",
      "source": [
        "Creación del Archivo GO"
      ],
      "metadata": {
        "id": "Cd5rwiL3rXIl"
      }
    },
    {
      "cell_type": "code",
      "source": [
        "%%writefile prueba.go\n",
        "package main\n",
        "\n",
        "import (\n",
        "\t\"fmt\"\n",
        "\t\"os\"\n",
        "\t\"syscall\"\n",
        "\t\"time\"\n",
        ")\n",
        "\n",
        "var nodes map[string]string = map[string]string{\n",
        "\t\"A\": \"CB\", \"B\": \"ED\", \"C\": \"F\",\n",
        "\t\"D\": \"\", \"E\": \"HG\", \"F\": \"\"}\n",
        "\n",
        "func fork() (uintptr, error) {\n",
        "\t// fork off the parent process\n",
        "\tret, ret2, errno := syscall.RawSyscall(syscall.SYS_FORK, 0, 0, 0)\n",
        "\t// failure while forking\n",
        "  if errno != 0 {\n",
        "\t\treturn uintptr(errno), fmt.Errorf(\"fork failed with error %s\", errno.Error())\n",
        "\t}\n",
        "\n",
        "\t// failure\n",
        "\tif ret2 < 0 {\n",
        "\t\treturn ret2, fmt.Errorf(\"fork failed with pid %d\", ret2)\n",
        "\t}\n",
        "\n",
        "\treturn ret, nil\n",
        "}\n",
        "\n",
        "func createProcess(letter string) uintptr {\n",
        "\t//fmt.Println(\"This is the process \" + letter)\n",
        "\n",
        "\tfor i := 0; i < len(nodes[letter]); i++ {\n",
        "\n",
        "\t\tid, _ := fork()\n",
        "\t\tif id == 0 {\n",
        "\t\t\tnode := string(nodes[letter][i])\n",
        "\t\t\tfmt.Printf(\"PID_Child: %d Padre: %d Node: %s\\n\", os.Getpid(), os.Getppid(), node)\n",
        "\t\t\tif len(nodes[letter]) != 0 {\n",
        "\t\t\t\tcreateProcess(node)\n",
        "\t\t\t}\n",
        "\t\t\ttime.Sleep(10 * time.Second)\n",
        "\t\t\treturn id\n",
        "\t\t}\n",
        "\t\ttime.Sleep(1 * time.Second)\n",
        "\t}\n",
        "\n",
        "\treturn 1\n",
        "}\n",
        "\n",
        "func main() {\n",
        "\tfmt.Printf(\"PPID_INIT: %d Padre: %d Node: A\\n\", os.Getpid(), os.Getppid())\n",
        "\tif createProcess(\"A\") == 1 {\n",
        "\t\ttime.Sleep(10 * time.Second)\n",
        "\t}\n",
        "}\n",
        "\n"
      ],
      "metadata": {
        "colab": {
          "base_uri": "https://localhost:8080/"
        },
        "id": "dMzxd9_WYHLt",
        "outputId": "a4f56ae7-61c7-453b-ba35-a37122d9065d"
      },
      "execution_count": 9,
      "outputs": [
        {
          "output_type": "stream",
          "name": "stdout",
          "text": [
            "Overwriting prueba.go\n"
          ]
        }
      ]
    },
    {
      "cell_type": "markdown",
      "source": [
        "Compilacion del Archivo GO"
      ],
      "metadata": {
        "id": "Yjq4DPjSrfyn"
      }
    },
    {
      "cell_type": "code",
      "source": [
        "!go build prueba.go"
      ],
      "metadata": {
        "id": "82yU525FYYAZ"
      },
      "execution_count": 10,
      "outputs": []
    },
    {
      "cell_type": "markdown",
      "source": [
        "Ejecución del Programa"
      ],
      "metadata": {
        "id": "6x_x0ru5riTB"
      }
    },
    {
      "cell_type": "code",
      "source": [
        "!./prueba"
      ],
      "metadata": {
        "colab": {
          "base_uri": "https://localhost:8080/"
        },
        "id": "53af478lItGH",
        "outputId": "38081f57-92b1-45cf-b35d-962e3995fdbf"
      },
      "execution_count": 11,
      "outputs": [
        {
          "output_type": "stream",
          "name": "stdout",
          "text": [
            "PPID_INIT: 4299 Padre: 398 Node: A\n",
            "PID_Child: 4303 Padre: 4299 Node: C\n",
            "PID_Child: 4304 Padre: 4303 Node: F\n",
            "PID_Child: 4309 Padre: 4299 Node: B\n",
            "PID_Child: 4310 Padre: 4309 Node: E\n",
            "PID_Child: 4311 Padre: 4310 Node: H\n",
            "PID_Child: 4316 Padre: 4309 Node: D\n",
            "PID_Child: 4317 Padre: 4310 Node: G\n"
          ]
        }
      ]
    },
    {
      "cell_type": "markdown",
      "source": [
        "Ejecucion del Programa Background logueando a Archivo"
      ],
      "metadata": {
        "id": "kk2UMyDJrqIu"
      }
    },
    {
      "cell_type": "code",
      "source": [
        "!nohup ./prueba 1>salidaGO 2>/dev/null &"
      ],
      "metadata": {
        "id": "dU_6o6kArwz4"
      },
      "execution_count": 17,
      "outputs": []
    },
    {
      "cell_type": "markdown",
      "source": [
        "Visualizacion de los Procesos"
      ],
      "metadata": {
        "id": "Og44ig5Xr6uI"
      }
    },
    {
      "cell_type": "code",
      "source": [
        "!ps -axf | grep prueba"
      ],
      "metadata": {
        "colab": {
          "base_uri": "https://localhost:8080/"
        },
        "id": "tubfZ7-ur46N",
        "outputId": "d336c2a1-2711-4c3b-a7b9-8181274a5d42"
      },
      "execution_count": 16,
      "outputs": [
        {
          "output_type": "stream",
          "name": "stdout",
          "text": [
            "   5596 ?        S      0:00  |       \\_ /bin/bash -c ps -axf | grep prueba\n",
            "   5598 ?        S      0:00  |           \\_ grep prueba\n",
            "   5468 ?        S      0:00 ./prueba\n",
            "   5474 ?        S      0:00 ./prueba\n",
            "   5573 ?        Sl     0:00 ./prueba\n",
            "   5577 ?        S      0:00  \\_ ./prueba\n",
            "   5578 ?        S      0:00  |   \\_ ./prueba\n",
            "   5583 ?        S      0:00  \\_ ./prueba\n",
            "   5584 ?        S      0:00      \\_ ./prueba\n",
            "   5585 ?        S      0:00      |   \\_ ./prueba\n",
            "   5591 ?        S      0:00      |   \\_ ./prueba\n",
            "   5590 ?        S      0:00      \\_ ./prueba\n"
          ]
        }
      ]
    },
    {
      "cell_type": "markdown",
      "source": [
        "Visualizacion de log del Programa GO a un Archivo"
      ],
      "metadata": {
        "id": "SquzJq9fsJfG"
      }
    },
    {
      "cell_type": "code",
      "source": [
        "!cat salidaGO && echo"
      ],
      "metadata": {
        "colab": {
          "base_uri": "https://localhost:8080/"
        },
        "id": "xujTCFS7sUAj",
        "outputId": "372b1a61-c478-4e40-cd5a-2b4352e932f5"
      },
      "execution_count": 18,
      "outputs": [
        {
          "output_type": "stream",
          "name": "stdout",
          "text": [
            "PPID_INIT: 5876 Padre: 1 Node: A\n",
            "PID_Child: 5880 Padre: 5876 Node: C\n",
            "PID_Child: 5881 Padre: 5880 Node: F\n",
            "PID_Child: 5886 Padre: 5876 Node: B\n",
            "PID_Child: 5887 Padre: 5886 Node: E\n",
            "PID_Child: 5888 Padre: 5887 Node: H\n",
            "PID_Child: 5893 Padre: 5886 Node: D\n",
            "PID_Child: 5894 Padre: 5887 Node: G\n",
            "\n"
          ]
        }
      ]
    }
  ]
}