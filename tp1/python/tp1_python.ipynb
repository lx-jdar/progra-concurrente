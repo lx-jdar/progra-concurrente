{
  "cells": [
    {
      "cell_type": "markdown",
      "metadata": {
        "id": "Iav5BO3LUmRn"
      },
      "source": [
        "## Creo el archivo"
      ]
    },
    {
      "cell_type": "code",
      "execution_count": 1,
      "metadata": {
        "colab": {
          "base_uri": "https://localhost:8080/"
        },
        "id": "ffl5NT4nUds2",
        "outputId": "aaf5695d-86c5-454e-af74-15a28f93414c"
      },
      "outputs": [
        {
          "name": "stdout",
          "output_type": "stream",
          "text": [
            "Writing fork.py\n"
          ]
        }
      ],
      "source": [
        "%%writefile fork.py\n",
        "import os\n",
        "import time\n",
        "\n",
        "FIRST_PROCESS = 'first'\n",
        "PROCESS_LIST = 'list'\n",
        "\n",
        "\n",
        "def create_processes(letter_list, letter = None):\n",
        " if letter == None: #Pregunto si es la primera llamada a la funcion para asignar la primera letra\n",
        "  letter = letter_list.get(FIRST_PROCESS)\n",
        "\n",
        " children_pid = []\n",
        " if letter in letter_list.get(PROCESS_LIST).keys():#Pregunto si la letra debe tener procesos hijos\n",
        "  for son_letter in letter_list.get(PROCESS_LIST).get(letter):\n",
        "   pid = os.fork()\n",
        "   if pid != 0:\n",
        "    children_pid.append(pid) #Verdadero, quiere decir que se tiene el valor del pid, lo agrego a la lista\n",
        "   else:\n",
        "    create_processes(letter_list, son_letter) #Falso, mando a crear los procesos hijos de la letra\n",
        "    return\n",
        "\n",
        "  for child_pid in children_pid:\n",
        "   os.waitpid(child_pid, 0)\n",
        "\n",
        " print(f'My letter is: {letter}. My PID is: {os.getpid()}. My PPID is: {os.getppid()}')\n",
        " time.sleep(25)\n",
        "\n",
        "if __name__ == '__main__':\n",
        " letter_list = {FIRST_PROCESS: 'A',PROCESS_LIST: {'A': ['B', 'C'],'B': ['D', 'E'],'C': ['F'], 'E': ['G', 'H'] }}\n",
        " create_processes(letter_list)"
      ]
    },
    {
      "cell_type": "markdown",
      "metadata": {
        "id": "iKJH41bdUy9K"
      },
      "source": [
        "Creo el proceso en segundo plano"
      ]
    },
    {
      "cell_type": "code",
      "execution_count": 2,
      "metadata": {
        "id": "iYRdeUAuUqAb"
      },
      "outputs": [],
      "source": [
        "!nohup python fork.py 1>salidaPy 2>/dev/null &"
      ]
    },
    {
      "cell_type": "markdown",
      "metadata": {
        "id": "YZVZ6E54VAAG"
      },
      "source": [
        "Busco la lista de procesos que se crearon"
      ]
    },
    {
      "cell_type": "code",
      "execution_count": 3,
      "metadata": {
        "colab": {
          "base_uri": "https://localhost:8080/"
        },
        "id": "LULtYyHMU3TZ",
        "outputId": "642177bd-c9a7-48ec-ed59-ff06df75c1de"
      },
      "outputs": [
        {
          "name": "stdout",
          "output_type": "stream",
          "text": [
            "root         608       1  0 03:01 ?        00:00:00 python3 fork.py\n",
            "root         610     608  0 03:01 ?        00:00:00 python3 fork.py\n",
            "root         611     608  0 03:01 ?        00:00:00 python3 fork.py\n",
            "root         612     610  0 03:01 ?        00:00:00 python3 fork.py\n",
            "root         613     611  0 03:01 ?        00:00:00 python3 fork.py\n",
            "root         614     610  0 03:01 ?        00:00:00 python3 fork.py\n",
            "root         615     614  0 03:01 ?        00:00:00 python3 fork.py\n",
            "root         616     614  0 03:01 ?        00:00:00 python3 fork.py\n",
            "root         635     523  0 03:01 ?        00:00:00 /bin/bash -c ps -ef | grep fork.py\n",
            "root         637     635  0 03:01 ?        00:00:00 grep fork.py\n"
          ]
        }
      ],
      "source": [
        "!ps -ef | grep fork.py"
      ]
    },
    {
      "cell_type": "markdown",
      "metadata": {
        "id": "Bb_pCqf1VIX4"
      },
      "source": [
        "Muestro el arbol de procesos"
      ]
    },
    {
      "cell_type": "code",
      "execution_count": 4,
      "metadata": {
        "colab": {
          "base_uri": "https://localhost:8080/"
        },
        "id": "y78y7TuCU-sQ",
        "outputId": "dafe3d3a-5aa8-4ce1-f2ca-2cc67e001497"
      },
      "outputs": [
        {
          "name": "stdout",
          "output_type": "stream",
          "text": [
            "python3(608)─┬─python3(610)─┬─python3(612)\n",
            "             │              └─python3(614)─┬─python3(615)\n",
            "             │                             └─python3(616)\n",
            "             └─python3(611)───python3(613)\n"
          ]
        }
      ],
      "source": [
        "!pstree -pc 608"
      ]
    }
  ],
  "metadata": {
    "colab": {
      "provenance": []
    },
    "kernelspec": {
      "display_name": "Python 3",
      "name": "python3"
    },
    "language_info": {
      "name": "python"
    }
  },
  "nbformat": 4,
  "nbformat_minor": 0
}
