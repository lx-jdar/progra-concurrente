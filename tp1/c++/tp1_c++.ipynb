{
  "nbformat": 4,
  "nbformat_minor": 0,
  "metadata": {
    "colab": {
      "provenance": [],
      "include_colab_link": true
    },
    "kernelspec": {
      "name": "python3",
      "display_name": "Python 3"
    },
    "language_info": {
      "name": "python"
    }
  },
  "cells": [
    {
      "cell_type": "markdown",
      "metadata": {
        "id": "view-in-github",
        "colab_type": "text"
      },
      "source": [
        "<a href=\"https://colab.research.google.com/github/lx-jdar/progra-concurrente/blob/development/tp1/c%2B%2B/tp1_c%2B%2B.ipynb\" target=\"_parent\"><img src=\"https://colab.research.google.com/assets/colab-badge.svg\" alt=\"Open In Colab\"/></a>"
      ]
    },
    {
      "cell_type": "markdown",
      "source": [
        "Creación del Archivo C++"
      ],
      "metadata": {
        "id": "qyax7afjxFeT"
      }
    },
    {
      "cell_type": "code",
      "execution_count": null,
      "metadata": {
        "colab": {
          "base_uri": "https://localhost:8080/"
        },
        "id": "4uocKfd-w5jb",
        "outputId": "9f8e1421-8d15-4755-9444-b5d06827211d"
      },
      "outputs": [
        {
          "output_type": "stream",
          "name": "stdout",
          "text": [
            "Writing procesos.c\n"
          ]
        }
      ],
      "source": [
        "%%writefile procesos.c\n",
        "#include<stdio.h>\n",
        "#include<stdlib.h>\n",
        "#include <sys/wait.h>\n",
        "#include <unistd.h>\n",
        "#define NO_INI -1\n",
        "#define PROS_CREATED 0\n",
        "\n",
        "void ShowPidAndPhaSi(pid_t pId,char name);\n",
        "\n",
        "pid_t CreateProsSi(pid_t pId);\n",
        "\n",
        "pid_t CreateProsSiNo(pid_t pId,pid_t pId2);\n",
        "\n",
        "int main()\n",
        "{\n",
        "  pid_t pIdA=PROS_CREATED;\n",
        "  pid_t pIdB=NO_INI;\n",
        "  pid_t pIdC=NO_INI;\n",
        "  pid_t pIdD=NO_INI;\n",
        "  pid_t pIdE=NO_INI;\n",
        "  pid_t pIdF=NO_INI;\n",
        "  pid_t pIdG=NO_INI;\n",
        "  pid_t pIdH=NO_INI;\n",
        "\n",
        "  ShowPidAndPhaSi(pIdA,'A');\n",
        "\n",
        "\n",
        "  pIdB=CreateProsSi(pIdA);\n",
        "\n",
        "  pIdC=CreateProsSiNo(pIdA,pIdB);\n",
        "\n",
        "  ShowPidAndPhaSi(pIdC,'C');\n",
        "\n",
        "  pIdF=CreateProsSi(pIdC);\n",
        "\n",
        "  ShowPidAndPhaSi(pIdB,'B');\n",
        "\n",
        "  pIdE=CreateProsSi(pIdB);\n",
        "\n",
        "  pIdD=CreateProsSiNo(pIdB,pIdE);\n",
        "\n",
        "  ShowPidAndPhaSi(pIdE,'E');\n",
        "\n",
        "  pIdG=CreateProsSi(pIdE);\n",
        "\n",
        "  pIdH=CreateProsSiNo(pIdE,pIdG);\n",
        "\n",
        "\n",
        "  ShowPidAndPhaSi(pIdD,'D');\n",
        "  ShowPidAndPhaSi(pIdF,'F');\n",
        "  ShowPidAndPhaSi(pIdG,'G');\n",
        "  ShowPidAndPhaSi(pIdH,'H');\n",
        "  sleep(15);\n",
        "  return 0;\n",
        "}\n",
        "\n",
        "void ShowPidAndPhaSi(pid_t pId,char name)\n",
        "{\n",
        "  if( pId == PROS_CREATED )\n",
        "    printf(\"Soy el proceso %c PID:%d y su Padre es:%d\\n\",name,getpid(),getppid());\n",
        "}\n",
        "pid_t CreateProsSi(pid_t pId)\n",
        "{\n",
        "    if(pId == PROS_CREATED)\n",
        "     return fork();\n",
        "    return -1;\n",
        "}\n",
        "pid_t CreateProsSiNo(pid_t pId,pid_t pId2)\n",
        "{\n",
        "    if(pId == PROS_CREATED && pId2 != PROS_CREATED)\n",
        "      return fork();\n",
        "    return -1;\n",
        "}\n"
      ]
    },
    {
      "cell_type": "markdown",
      "source": [
        "Compilacion del Archivo C++"
      ],
      "metadata": {
        "id": "bH1otYTzxcHR"
      }
    },
    {
      "cell_type": "code",
      "source": [
        "!gcc -o procesos procesos.c"
      ],
      "metadata": {
        "id": "2ILt9Ie_xetg"
      },
      "execution_count": null,
      "outputs": []
    },
    {
      "cell_type": "markdown",
      "source": [
        "Ejecución del Programa en Consola"
      ],
      "metadata": {
        "id": "qYskWNyvxoAP"
      }
    },
    {
      "cell_type": "code",
      "source": [
        "!./procesos"
      ],
      "metadata": {
        "colab": {
          "base_uri": "https://localhost:8080/"
        },
        "id": "rfysLfgnxpA9",
        "outputId": "0d9dc056-7abd-46ed-9c6b-95547653a303"
      },
      "execution_count": null,
      "outputs": [
        {
          "output_type": "stream",
          "name": "stdout",
          "text": [
            "Soy el proceso A PID:1132 y su Padre es:717\n",
            "Soy el proceso B PID:1133 y su Padre es:1132\n",
            "Soy el proceso E PID:1135 y su Padre es:1133\n",
            "Soy el proceso D PID:1136 y su Padre es:1133\n",
            "Soy el proceso H PID:1138 y su Padre es:1135\n",
            "Soy el proceso G PID:1137 y su Padre es:1135\n",
            "Soy el proceso C PID:1134 y su Padre es:1132\n",
            "Soy el proceso F PID:1139 y su Padre es:1134\n"
          ]
        }
      ]
    },
    {
      "cell_type": "markdown",
      "source": [
        "Ejecución del Proceso y logueo a un archivo"
      ],
      "metadata": {
        "id": "1VWivSTWxzl8"
      }
    },
    {
      "cell_type": "code",
      "source": [
        "!nohup ./procesos 1>salidaC 2>/dev/null &"
      ],
      "metadata": {
        "id": "D95Zq0Amx7jf"
      },
      "execution_count": null,
      "outputs": []
    },
    {
      "cell_type": "markdown",
      "source": [
        "Visualización del Estado de los procesos"
      ],
      "metadata": {
        "id": "kPvQD4YbyDkn"
      }
    },
    {
      "cell_type": "code",
      "source": [
        "!ps -axf"
      ],
      "metadata": {
        "id": "Gq6P9LARyE3i"
      },
      "execution_count": null,
      "outputs": []
    },
    {
      "cell_type": "markdown",
      "source": [
        "Visualizacion de log en Archivo del Programa C++"
      ],
      "metadata": {
        "id": "IA4qlQZLyLGq"
      }
    },
    {
      "cell_type": "code",
      "source": [
        "!cat salidaC"
      ],
      "metadata": {
        "colab": {
          "base_uri": "https://localhost:8080/"
        },
        "id": "fN3t4u83yORw",
        "outputId": "3d1790b9-0ebb-46d2-bc27-676473d2e227"
      },
      "execution_count": null,
      "outputs": [
        {
          "output_type": "stream",
          "name": "stdout",
          "text": [
            "Soy el proceso A PID:1474 y su Padre es:1\n",
            "Soy el proceso A PID:1474 y su Padre es:1\n",
            "Soy el proceso C PID:1476 y su Padre es:1474\n",
            "Soy el proceso B PID:1475 y su Padre es:1474\n",
            "Soy el proceso B PID:1475 y su Padre es:1474\n",
            "Soy el proceso E PID:1478 y su Padre es:1475\n",
            "Soy el proceso A PID:1474 y su Padre es:1\n",
            "Soy el proceso C PID:1476 y su Padre es:1474\n",
            "Soy el proceso F PID:1477 y su Padre es:1476\n",
            "Soy el proceso B PID:1475 y su Padre es:1474\n",
            "Soy el proceso D PID:1479 y su Padre es:1475\n",
            "Soy el proceso B PID:1475 y su Padre es:1474\n",
            "Soy el proceso E PID:1478 y su Padre es:1475\n",
            "Soy el proceso H PID:1481 y su Padre es:1478\n",
            "Soy el proceso B PID:1475 y su Padre es:1474\n",
            "Soy el proceso E PID:1478 y su Padre es:1475\n",
            "Soy el proceso G PID:1480 y su Padre es:1478\n"
          ]
        }
      ]
    }
  ]
}