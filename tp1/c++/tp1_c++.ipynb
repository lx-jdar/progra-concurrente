{
  "nbformat": 4,
  "nbformat_minor": 0,
  "metadata": {
    "colab": {
      "provenance": [],
      "authorship_tag": "ABX9TyP61uYCacEW7AVM/x1Cw/Ni",
      "include_colab_link": true
    },
    "kernelspec": {
      "name": "python3",
      "display_name": "Python 3"
    },
    "language_info": {
      "name": "python"
    }
  },
  "cells": [
    {
      "cell_type": "markdown",
      "metadata": {
        "id": "view-in-github",
        "colab_type": "text"
      },
      "source": [
        "<a href=\"https://colab.research.google.com/github/lx-jdar/progra-concurrente/blob/development/tp1/c%2B%2B/tp1_c%2B%2B.ipynb\" target=\"_parent\"><img src=\"https://colab.research.google.com/assets/colab-badge.svg\" alt=\"Open In Colab\"/></a>"
      ]
    },
    {
      "cell_type": "markdown",
      "source": [
        "Creación del Archivo C++"
      ],
      "metadata": {
        "id": "qyax7afjxFeT"
      }
    },
    {
      "cell_type": "code",
      "execution_count": 1,
      "metadata": {
        "colab": {
          "base_uri": "https://localhost:8080/"
        },
        "id": "4uocKfd-w5jb",
        "outputId": "755edff1-e2c2-4fc0-f720-fd700497c36c"
      },
      "outputs": [
        {
          "output_type": "stream",
          "name": "stdout",
          "text": [
            "Writing procesos.c\n"
          ]
        }
      ],
      "source": [
        "%%writefile procesos.c\n",
        "#include<stdio.h>\n",
        "#include<stdlib.h>\n",
        "#include <sys/wait.h>\n",
        "#include <unistd.h>\n",
        "#define NO_INI -1\n",
        "#define PROS_CREATED 0\n",
        "\n",
        "void showPidAndPha(char name);\n",
        "int main()\n",
        "{\n",
        " pid_t pIdB=NO_INI;\n",
        " pid_t pIdC=NO_INI;\n",
        " pid_t pIdD=NO_INI;\n",
        " pid_t pIdE=NO_INI;\n",
        " pid_t pIdF=NO_INI;\n",
        " pid_t pIdG=NO_INI;\n",
        " pid_t pIdH=NO_INI;\n",
        " pIdB=fork();\n",
        " if( pIdB != PROS_CREATED )\n",
        " {\n",
        "  showPidAndPha('A');\n",
        "  pIdC=fork();\n",
        " }\n",
        " if( pIdC == PROS_CREATED )\n",
        " {\n",
        "  showPidAndPha('C');\n",
        "  pIdF=fork();\n",
        " }\n",
        " if( pIdB == PROS_CREATED )\n",
        " {\n",
        "  showPidAndPha('B');\n",
        "  pIdE=fork();\n",
        "  if( pIdE != PROS_CREATED )\n",
        "    pIdD=fork();\n",
        " }\n",
        " if( pIdE == PROS_CREATED )\n",
        " {\n",
        "  showPidAndPha('E');\n",
        "  pIdG=fork();\n",
        "  if( pIdG != PROS_CREATED )\n",
        "    pIdH=fork();\n",
        " }\n",
        " if( pIdD == PROS_CREATED )\n",
        " {\n",
        "   showPidAndPha('D');\n",
        " }\n",
        "  if( pIdF == PROS_CREATED )\n",
        "  {\n",
        "   showPidAndPha('F');\n",
        "  }\n",
        "  if( pIdG == PROS_CREATED )\n",
        "  {\n",
        "   showPidAndPha('G');\n",
        "  }\n",
        "  if( pIdH == PROS_CREATED )\n",
        "  {\n",
        "   showPidAndPha('H');\n",
        "  }\n",
        "  sleep(15);\n",
        "  return 0;\n",
        "}\n",
        "\n",
        "void showPidAndPha(char name)\n",
        "{\n",
        "  printf(\"Soy el proceso %c PID:%d y su Padre es:%d\\n\",name,getpid(),getppid());\n",
        "}\n"
      ]
    },
    {
      "cell_type": "markdown",
      "source": [
        "Compilacion del Archivo C++"
      ],
      "metadata": {
        "id": "bH1otYTzxcHR"
      }
    },
    {
      "cell_type": "code",
      "source": [
        "!gcc -o procesos procesos.c"
      ],
      "metadata": {
        "id": "2ILt9Ie_xetg"
      },
      "execution_count": 2,
      "outputs": []
    },
    {
      "cell_type": "markdown",
      "source": [
        "Ejecución del Programa en Consola"
      ],
      "metadata": {
        "id": "qYskWNyvxoAP"
      }
    },
    {
      "cell_type": "code",
      "source": [
        "!./procesos"
      ],
      "metadata": {
        "colab": {
          "base_uri": "https://localhost:8080/"
        },
        "id": "rfysLfgnxpA9",
        "outputId": "0d9dc056-7abd-46ed-9c6b-95547653a303"
      },
      "execution_count": 3,
      "outputs": [
        {
          "output_type": "stream",
          "name": "stdout",
          "text": [
            "Soy el proceso A PID:1132 y su Padre es:717\n",
            "Soy el proceso B PID:1133 y su Padre es:1132\n",
            "Soy el proceso E PID:1135 y su Padre es:1133\n",
            "Soy el proceso D PID:1136 y su Padre es:1133\n",
            "Soy el proceso H PID:1138 y su Padre es:1135\n",
            "Soy el proceso G PID:1137 y su Padre es:1135\n",
            "Soy el proceso C PID:1134 y su Padre es:1132\n",
            "Soy el proceso F PID:1139 y su Padre es:1134\n"
          ]
        }
      ]
    },
    {
      "cell_type": "markdown",
      "source": [
        "Ejecución del Proceso y logueo a un archivo"
      ],
      "metadata": {
        "id": "1VWivSTWxzl8"
      }
    },
    {
      "cell_type": "code",
      "source": [
        "!nohup ./procesos 1>salidaC 2>/dev/null &"
      ],
      "metadata": {
        "id": "D95Zq0Amx7jf"
      },
      "execution_count": 4,
      "outputs": []
    },
    {
      "cell_type": "markdown",
      "source": [
        "Visualización del Estado de los procesos"
      ],
      "metadata": {
        "id": "kPvQD4YbyDkn"
      }
    },
    {
      "cell_type": "code",
      "source": [
        "!ps -axf"
      ],
      "metadata": {
        "id": "Gq6P9LARyE3i"
      },
      "execution_count": null,
      "outputs": []
    },
    {
      "cell_type": "markdown",
      "source": [
        "Visualizacion de log en Archivo del Programa C++"
      ],
      "metadata": {
        "id": "IA4qlQZLyLGq"
      }
    },
    {
      "cell_type": "code",
      "source": [
        "!cat salidaC"
      ],
      "metadata": {
        "colab": {
          "base_uri": "https://localhost:8080/"
        },
        "id": "fN3t4u83yORw",
        "outputId": "3d1790b9-0ebb-46d2-bc27-676473d2e227"
      },
      "execution_count": 5,
      "outputs": [
        {
          "output_type": "stream",
          "name": "stdout",
          "text": [
            "Soy el proceso A PID:1474 y su Padre es:1\n",
            "Soy el proceso A PID:1474 y su Padre es:1\n",
            "Soy el proceso C PID:1476 y su Padre es:1474\n",
            "Soy el proceso B PID:1475 y su Padre es:1474\n",
            "Soy el proceso B PID:1475 y su Padre es:1474\n",
            "Soy el proceso E PID:1478 y su Padre es:1475\n",
            "Soy el proceso A PID:1474 y su Padre es:1\n",
            "Soy el proceso C PID:1476 y su Padre es:1474\n",
            "Soy el proceso F PID:1477 y su Padre es:1476\n",
            "Soy el proceso B PID:1475 y su Padre es:1474\n",
            "Soy el proceso D PID:1479 y su Padre es:1475\n",
            "Soy el proceso B PID:1475 y su Padre es:1474\n",
            "Soy el proceso E PID:1478 y su Padre es:1475\n",
            "Soy el proceso H PID:1481 y su Padre es:1478\n",
            "Soy el proceso B PID:1475 y su Padre es:1474\n",
            "Soy el proceso E PID:1478 y su Padre es:1475\n",
            "Soy el proceso G PID:1480 y su Padre es:1478\n"
          ]
        }
      ]
    }
  ]
}